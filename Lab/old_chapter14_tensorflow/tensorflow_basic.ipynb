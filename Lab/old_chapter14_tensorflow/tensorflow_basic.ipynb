{
 "cells": [
  {
   "cell_type": "code",
   "execution_count": 6,
   "metadata": {},
   "outputs": [
    {
     "data": {
      "image/png": "[encoded data removed]",
      "text/plain": [
       "<matplotlib.figure.Figure at 0x1056a4080>"
      ]
     },
     "metadata": {},
     "output_type": "display_data"
    }
   ],
   "source": [
    "import matplotlib.pyplot as plt\n",
    "import numpy as np\n",
    "def sigmoid(h):\n",
    "    return 1.0 / (1.0 + np.exp(-h))\n",
    "\n",
    "\n",
    "h = np.arange(-5, 5, 0.1)\n",
    "s_h = sigmoid(h)\n",
    "tanh_h = np.tanh(h)\n",
    "relu_h = h * (h > 0)\n",
    "plt.plot(h, s_h,color='r',label='Sigmoid')\n",
    "plt.plot(h, tanh_h,color='g',label='Tanh')\n",
    "plt.plot(h, relu_h,color='b',label='ReLu')\n",
    "plt.axvline(0.0, ls='dotted', color='k')\n",
    "plt.axhspan(0.0, 1.0, facecolor='1.0', alpha=1.0, ls='dotted')\n",
    "plt.axhline(y=0.0, ls='dotted', color='k')\n",
    "#plt.yticks([0.0, 0.5, 1.0])\n",
    "plt.yticks([-2.0,-1.0,-0.5,0.0,0.5,1.0,1.5,2.0,2.5,3.0,3.5,4.0,4.5,5.0])\n",
    "plt.ylim(-1.5, 5.0)\n",
    "plt.legend()\n",
    "plt.show()"
   ]
  },
  {
   "cell_type": "code",
   "execution_count": 9,
   "metadata": {},
   "outputs": [],
   "source": [
    "import tensorflow as tf\n",
    "var_x = tf.Variable(0,name='Variable_x')\n",
    "constant_x = tf.constant(1)\n",
    "\n",
    "add_xs = tf.add(var_x,constant_x)\n",
    "new_x = tf.assign(var_x,add_xs)"
   ]
  },
  {
   "cell_type": "code",
   "execution_count": 10,
   "metadata": {},
   "outputs": [
    {
     "name": "stdout",
     "output_type": "stream",
     "text": [
      "1\n",
      "2\n",
      "3\n",
      "4\n",
      "5\n"
     ]
    }
   ],
   "source": [
    "init = tf.global_variables_initializer()\n",
    "with tf.Session() as sess:\n",
    "    sess.run(init)\n",
    "    for i in range(5):\n",
    "        sess.run(new_x)\n",
    "        print(sess.run(var_x))"
   ]
  },
  {
   "cell_type": "code",
   "execution_count": 12,
   "metadata": {},
   "outputs": [
    {
     "name": "stdout",
     "output_type": "stream",
     "text": [
      "[15.]\n"
     ]
    }
   ],
   "source": [
    "input1 = tf.placeholder(tf.float32)\n",
    "input2 = tf.placeholder(tf.float32)\n",
    "output = tf.multiply(input1,input2)\n",
    "with tf.Session() as sess:\n",
    "    print(sess.run(output,feed_dict={input1: [5.],input2: [3.]}))\n",
    "          \n",
    "          "
   ]
  },
  {
   "cell_type": "code",
   "execution_count": null,
   "metadata": {
    "collapsed": true
   },
   "outputs": [],
   "source": []
  }
 ],
 "metadata": {
  "kernelspec": {
   "display_name": "Python 3",
   "language": "python",
   "name": "python3"
  },
  "language_info": {
   "codemirror_mode": {
    "name": "ipython",
    "version": 3
   },
   "file_extension": ".py",
   "mimetype": "text/x-python",
   "name": "python",
   "nbconvert_exporter": "python",
   "pygments_lexer": "ipython3",
   "version": "3.5.4"
  }
 },
 "nbformat": 4,
 "nbformat_minor": 2
}
