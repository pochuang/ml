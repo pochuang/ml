{
 "cells": [
  {
   "cell_type": "code",
   "execution_count": 3,
   "metadata": {},
   "outputs": [
    {
     "name": "stderr",
     "output_type": "stream",
     "text": [
      "Building prefix dict from C:\\pyml_scripts\\jieba\\dict.txt.big.txt ...\n",
      "Loading model from cache C:\\Users\\Admin\\AppData\\Local\\Temp\\jieba.u167995dff614d0511f6749dcab629a6c.cache\n",
      "Loading model cost 1.066 seconds.\n",
      "Prefix dict has been built successfully.\n"
     ]
    }
   ],
   "source": [
    "import jieba \n",
    "\n",
    "#載入繁體字典\n",
    "jieba.set_dictionary(r'C:\\pyml_scripts\\jieba\\dict.txt.big.txt')\n",
    "\n",
    "#載入金庸小說的武俠名詞\n",
    "jieba.load_userdict(r'C:\\pyml_scripts\\jieba\\kingallnames.txt')\n",
    "\n",
    "def stopwordslist(filepath):  \n",
    "    stopwords = [line.strip() for line in open(filepath, 'r', encoding='utf-8').readlines()]  \n",
    "    return stopwords  \n",
    "\n",
    "\n",
    "#進行分詞  \n",
    "def seg_sentence(sentence):  \n",
    "    sentence_seged = jieba.cut(sentence.strip())  \n",
    "    stopwords = stopwordslist(r'C:\\pyml_scripts\\jieba\\stopkey_cht.txt')  # 載入口語贅詞等列表  \n",
    "    outstr = ''  \n",
    "    for word in sentence_seged:     #移除贅詞\n",
    "        if word not in stopwords:  \n",
    "            if word != '\\t':  \n",
    "                outstr += word  \n",
    "                outstr += \" \"  \n",
    "    return outstr  \n",
    "\n",
    " \n",
    "inputs = open(r'C:\\pyml_scripts\\jieba\\TL.txt', 'r', encoding='utf-8')  \n",
    "outputs = open(r'C:\\pyml_scripts\\jieba\\TL_cut.txt', 'w',encoding='utf-8')  \n",
    "for line in inputs:  \n",
    "    line_seg = seg_sentence(line)   #每一行讀入一次，並進行分詞\n",
    "    outputs.write(line_seg + '\\n')  #每次分詞完成後，寫入一行\n",
    "outputs.close()  \n",
    "inputs.close()  \n"
   ]
  },
  {
   "cell_type": "code",
   "execution_count": null,
   "metadata": {
    "collapsed": true
   },
   "outputs": [],
   "source": []
  }
 ],
 "metadata": {
  "kernelspec": {
   "display_name": "Python 3 (ipykernel)",
   "language": "python",
   "name": "python3"
  },
  "language_info": {
   "codemirror_mode": {
    "name": "ipython",
    "version": 3
   },
   "file_extension": ".py",
   "mimetype": "text/x-python",
   "name": "python",
   "nbconvert_exporter": "python",
   "pygments_lexer": "ipython3",
   "version": "3.8.12"
  }
 },
 "nbformat": 4,
 "nbformat_minor": 2
}
