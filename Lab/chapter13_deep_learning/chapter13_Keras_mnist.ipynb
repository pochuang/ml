{
 "cells": [
  {
   "cell_type": "code",
   "execution_count": 1,
   "metadata": {},
   "outputs": [],
   "source": [
    "import keras\n",
    "from keras.utils import to_categorical #one-hot encoding\n",
    "import matplotlib.pyplot as plt\n",
    "import pandas as pd\n",
    "import numpy as np"
   ]
  },
  {
   "cell_type": "code",
   "execution_count": 2,
   "metadata": {},
   "outputs": [],
   "source": [
    "from keras.datasets import mnist    #NIST提供的手寫數字圖片\n",
    "(train_images,train_labels),(test_images,test_labels) = mnist.load_data() #總共70,000張,train_images:60,000. test_images=10,000"
   ]
  },
  {
   "cell_type": "code",
   "execution_count": 3,
   "metadata": {},
   "outputs": [
    {
     "data": {
      "text/plain": [
       "(60000, 28, 28)"
      ]
     },
     "execution_count": 3,
     "metadata": {},
     "output_type": "execute_result"
    }
   ],
   "source": [
    "train_images.shape"
   ]
  },
  {
   "cell_type": "code",
   "execution_count": 4,
   "metadata": {},
   "outputs": [
    {
     "data": {
      "text/plain": [
       "array([[  0,   0,   0,   0,   0,   0,   0,   0,   0,   0,   0,   0,   0,\n",
       "          0,   0,   0,   0,   0,   0,   0,   0,   0,   0,   0,   0,   0,\n",
       "          0,   0],\n",
       "       [  0,   0,   0,   0,   0,   0,   0,   0,   0,   0,   0,   0,   0,\n",
       "          0,   0,   0,   0,   0,   0,   0,   0,   0,   0,   0,   0,   0,\n",
       "          0,   0],\n",
       "       [  0,   0,   0,   0,   0,   0,   0,   0,   0,   0,   0,   0,   0,\n",
       "          0,   0,   0,   0,   0,   0,   0,   0,   0,   0,   0,   0,   0,\n",
       "          0,   0],\n",
       "       [  0,   0,   0,   0,   0,   0,   0,   0,   0,   0,   0,   0,   0,\n",
       "          0,   0,   0,   0,   0,   0,   0,   0,   0,   0,   0,   0,   0,\n",
       "          0,   0],\n",
       "       [  0,   0,   0,   0,   0,   0,   0,   0,   0,   0,   0,   0,   0,\n",
       "          0,   0,   0,   0,   0,   0,   0,   0,   0,   0,   0,   0,   0,\n",
       "          0,   0],\n",
       "       [  0,   0,   0,   0,   0,   0,   0,   0,   0,   0,   0,   0,   3,\n",
       "         18,  18,  18, 126, 136, 175,  26, 166, 255, 247, 127,   0,   0,\n",
       "          0,   0],\n",
       "       [  0,   0,   0,   0,   0,   0,   0,   0,  30,  36,  94, 154, 170,\n",
       "        253, 253, 253, 253, 253, 225, 172, 253, 242, 195,  64,   0,   0,\n",
       "          0,   0],\n",
       "       [  0,   0,   0,   0,   0,   0,   0,  49, 238, 253, 253, 253, 253,\n",
       "        253, 253, 253, 253, 251,  93,  82,  82,  56,  39,   0,   0,   0,\n",
       "          0,   0],\n",
       "       [  0,   0,   0,   0,   0,   0,   0,  18, 219, 253, 253, 253, 253,\n",
       "        253, 198, 182, 247, 241,   0,   0,   0,   0,   0,   0,   0,   0,\n",
       "          0,   0],\n",
       "       [  0,   0,   0,   0,   0,   0,   0,   0,  80, 156, 107, 253, 253,\n",
       "        205,  11,   0,  43, 154,   0,   0,   0,   0,   0,   0,   0,   0,\n",
       "          0,   0],\n",
       "       [  0,   0,   0,   0,   0,   0,   0,   0,   0,  14,   1, 154, 253,\n",
       "         90,   0,   0,   0,   0,   0,   0,   0,   0,   0,   0,   0,   0,\n",
       "          0,   0],\n",
       "       [  0,   0,   0,   0,   0,   0,   0,   0,   0,   0,   0, 139, 253,\n",
       "        190,   2,   0,   0,   0,   0,   0,   0,   0,   0,   0,   0,   0,\n",
       "          0,   0],\n",
       "       [  0,   0,   0,   0,   0,   0,   0,   0,   0,   0,   0,  11, 190,\n",
       "        253,  70,   0,   0,   0,   0,   0,   0,   0,   0,   0,   0,   0,\n",
       "          0,   0],\n",
       "       [  0,   0,   0,   0,   0,   0,   0,   0,   0,   0,   0,   0,  35,\n",
       "        241, 225, 160, 108,   1,   0,   0,   0,   0,   0,   0,   0,   0,\n",
       "          0,   0],\n",
       "       [  0,   0,   0,   0,   0,   0,   0,   0,   0,   0,   0,   0,   0,\n",
       "         81, 240, 253, 253, 119,  25,   0,   0,   0,   0,   0,   0,   0,\n",
       "          0,   0],\n",
       "       [  0,   0,   0,   0,   0,   0,   0,   0,   0,   0,   0,   0,   0,\n",
       "          0,  45, 186, 253, 253, 150,  27,   0,   0,   0,   0,   0,   0,\n",
       "          0,   0],\n",
       "       [  0,   0,   0,   0,   0,   0,   0,   0,   0,   0,   0,   0,   0,\n",
       "          0,   0,  16,  93, 252, 253, 187,   0,   0,   0,   0,   0,   0,\n",
       "          0,   0],\n",
       "       [  0,   0,   0,   0,   0,   0,   0,   0,   0,   0,   0,   0,   0,\n",
       "          0,   0,   0,   0, 249, 253, 249,  64,   0,   0,   0,   0,   0,\n",
       "          0,   0],\n",
       "       [  0,   0,   0,   0,   0,   0,   0,   0,   0,   0,   0,   0,   0,\n",
       "          0,  46, 130, 183, 253, 253, 207,   2,   0,   0,   0,   0,   0,\n",
       "          0,   0],\n",
       "       [  0,   0,   0,   0,   0,   0,   0,   0,   0,   0,   0,   0,  39,\n",
       "        148, 229, 253, 253, 253, 250, 182,   0,   0,   0,   0,   0,   0,\n",
       "          0,   0],\n",
       "       [  0,   0,   0,   0,   0,   0,   0,   0,   0,   0,  24, 114, 221,\n",
       "        253, 253, 253, 253, 201,  78,   0,   0,   0,   0,   0,   0,   0,\n",
       "          0,   0],\n",
       "       [  0,   0,   0,   0,   0,   0,   0,   0,  23,  66, 213, 253, 253,\n",
       "        253, 253, 198,  81,   2,   0,   0,   0,   0,   0,   0,   0,   0,\n",
       "          0,   0],\n",
       "       [  0,   0,   0,   0,   0,   0,  18, 171, 219, 253, 253, 253, 253,\n",
       "        195,  80,   9,   0,   0,   0,   0,   0,   0,   0,   0,   0,   0,\n",
       "          0,   0],\n",
       "       [  0,   0,   0,   0,  55, 172, 226, 253, 253, 253, 253, 244, 133,\n",
       "         11,   0,   0,   0,   0,   0,   0,   0,   0,   0,   0,   0,   0,\n",
       "          0,   0],\n",
       "       [  0,   0,   0,   0, 136, 253, 253, 253, 212, 135, 132,  16,   0,\n",
       "          0,   0,   0,   0,   0,   0,   0,   0,   0,   0,   0,   0,   0,\n",
       "          0,   0],\n",
       "       [  0,   0,   0,   0,   0,   0,   0,   0,   0,   0,   0,   0,   0,\n",
       "          0,   0,   0,   0,   0,   0,   0,   0,   0,   0,   0,   0,   0,\n",
       "          0,   0],\n",
       "       [  0,   0,   0,   0,   0,   0,   0,   0,   0,   0,   0,   0,   0,\n",
       "          0,   0,   0,   0,   0,   0,   0,   0,   0,   0,   0,   0,   0,\n",
       "          0,   0],\n",
       "       [  0,   0,   0,   0,   0,   0,   0,   0,   0,   0,   0,   0,   0,\n",
       "          0,   0,   0,   0,   0,   0,   0,   0,   0,   0,   0,   0,   0,\n",
       "          0,   0]], dtype=uint8)"
      ]
     },
     "execution_count": 4,
     "metadata": {},
     "output_type": "execute_result"
    }
   ],
   "source": [
    "train_images[0]"
   ]
  },
  {
   "cell_type": "code",
   "execution_count": 5,
   "metadata": {},
   "outputs": [
    {
     "data": {
      "text/plain": [
       "5"
      ]
     },
     "execution_count": 5,
     "metadata": {},
     "output_type": "execute_result"
    }
   ],
   "source": [
    "train_labels[0]"
   ]
  },
  {
   "cell_type": "code",
   "execution_count": 6,
   "metadata": {},
   "outputs": [
    {
     "data": {
      "image/png": "[encoded data removed]",
      "text/plain": [
       "<Figure size 432x288 with 10 Axes>"
      ]
     },
     "metadata": {
      "needs_background": "light"
     },
     "output_type": "display_data"
    }
   ],
   "source": [
    "for i in range(10):\n",
    "    plt.subplot(2,5,i+1)\n",
    "    plt.imshow(train_images[i],cmap=plt.cm.gray)\n",
    "    plt.xlabel(str(train_labels[i]))\n",
    "\n",
    "plt.show()"
   ]
  },
  {
   "cell_type": "code",
   "execution_count": 7,
   "metadata": {},
   "outputs": [],
   "source": [
    "# normalization(加速梯度下降的收斂)\n",
    "train_images_normal=train_images/255\n",
    "test_images_normal=test_images/255\n",
    "\n",
    "# 因為損失函數將使用categorical_crossentropy,需要對label進行one-hot encoding\n",
    "train_labels_oh=to_categorical(train_labels)\n",
    "test_labels_oh=to_categorical(test_labels)"
   ]
  },
  {
   "cell_type": "code",
   "execution_count": 8,
   "metadata": {},
   "outputs": [
    {
     "data": {
      "text/plain": [
       "5"
      ]
     },
     "execution_count": 8,
     "metadata": {},
     "output_type": "execute_result"
    }
   ],
   "source": [
    "train_labels[0]"
   ]
  },
  {
   "cell_type": "code",
   "execution_count": 9,
   "metadata": {},
   "outputs": [
    {
     "data": {
      "text/plain": [
       "array([0., 0., 0., 0., 0., 1., 0., 0., 0., 0.], dtype=float32)"
      ]
     },
     "execution_count": 9,
     "metadata": {},
     "output_type": "execute_result"
    }
   ],
   "source": [
    "train_labels_oh[0]"
   ]
  },
  {
   "cell_type": "code",
   "execution_count": 10,
   "metadata": {},
   "outputs": [
    {
     "name": "stdout",
     "output_type": "stream",
     "text": [
      "Model: \"sequential\"\n",
      "_________________________________________________________________\n",
      "Layer (type)                 Output Shape              Param #   \n",
      "=================================================================\n",
      "flatten (Flatten)            (None, 784)               0         \n",
      "_________________________________________________________________\n",
      "dense (Dense)                (None, 100)               78500     \n",
      "_________________________________________________________________\n",
      "dense_1 (Dense)              (None, 10)                1010      \n",
      "=================================================================\n",
      "Total params: 79,510\n",
      "Trainable params: 79,510\n",
      "Non-trainable params: 0\n",
      "_________________________________________________________________\n"
     ]
    }
   ],
   "source": [
    "# 建立模型\n",
    "# 1.輸入層：原本為(28,28),經過平坦化(1維)成為(768,)\n",
    "# 2.隱藏層：100個神經元,活化函數使用Relu\n",
    "# 3.輸出層：10個輸出結果,活化函數使用softmax,可讓10個輸出結果的可能出現機率,加總後為1\n",
    "\n",
    "model=keras.models.Sequential()\n",
    "model.add(keras.layers.Flatten(input_shape=(28,28)))\n",
    "\n",
    "#Dense為全連結層\n",
    "model.add(keras.layers.Dense(units=100,activation='relu'))\n",
    "model.add(keras.layers.Dense(units=10,activation='softmax'))\n",
    "\n",
    "model.summary()"
   ]
  },
  {
   "cell_type": "code",
   "execution_count": 11,
   "metadata": {},
   "outputs": [],
   "source": [
    "# 編譯模型\n",
    "model.compile(loss='categorical_crossentropy', optimizer='adam',metrics='accuracy')\n",
    "\n",
    "# model.compile(loss='categorical_crossentropy', optimizer=keras.optimizers.Adam(learning_rate=0.01))"
   ]
  },
  {
   "cell_type": "code",
   "execution_count": 12,
   "metadata": {},
   "outputs": [
    {
     "name": "stdout",
     "output_type": "stream",
     "text": [
      "Epoch 1/30\n",
      "469/469 [==============================] - 1s 2ms/step - loss: 0.6559 - accuracy: 0.8197 - val_loss: 0.2153 - val_accuracy: 0.9382\n",
      "Epoch 2/30\n",
      "469/469 [==============================] - 0s 1ms/step - loss: 0.1929 - accuracy: 0.9453 - val_loss: 0.1542 - val_accuracy: 0.9552\n",
      "Epoch 3/30\n",
      "469/469 [==============================] - 0s 1ms/step - loss: 0.1369 - accuracy: 0.9612 - val_loss: 0.1219 - val_accuracy: 0.9635\n",
      "Epoch 4/30\n",
      "469/469 [==============================] - 0s 1ms/step - loss: 0.1054 - accuracy: 0.9695 - val_loss: 0.1065 - val_accuracy: 0.9687\n",
      "Epoch 5/30\n",
      "469/469 [==============================] - 0s 1ms/step - loss: 0.0864 - accuracy: 0.9752 - val_loss: 0.1015 - val_accuracy: 0.9691\n",
      "Epoch 6/30\n",
      "469/469 [==============================] - 0s 1ms/step - loss: 0.0706 - accuracy: 0.9799 - val_loss: 0.0854 - val_accuracy: 0.9745\n",
      "Epoch 7/30\n",
      "469/469 [==============================] - 0s 1ms/step - loss: 0.0579 - accuracy: 0.9840 - val_loss: 0.0870 - val_accuracy: 0.9741\n",
      "Epoch 8/30\n",
      "469/469 [==============================] - 0s 1ms/step - loss: 0.0524 - accuracy: 0.9856 - val_loss: 0.0797 - val_accuracy: 0.9764\n",
      "Epoch 9/30\n",
      "469/469 [==============================] - 0s 1ms/step - loss: 0.0440 - accuracy: 0.9875 - val_loss: 0.0811 - val_accuracy: 0.9759\n",
      "Epoch 10/30\n",
      "469/469 [==============================] - 0s 1ms/step - loss: 0.0385 - accuracy: 0.9899 - val_loss: 0.0796 - val_accuracy: 0.9753\n",
      "Epoch 11/30\n",
      "469/469 [==============================] - 0s 1ms/step - loss: 0.0307 - accuracy: 0.9917 - val_loss: 0.0777 - val_accuracy: 0.9769\n",
      "Epoch 12/30\n",
      "469/469 [==============================] - 0s 1ms/step - loss: 0.0290 - accuracy: 0.9926 - val_loss: 0.0744 - val_accuracy: 0.9772\n",
      "Epoch 13/30\n",
      "469/469 [==============================] - 0s 1ms/step - loss: 0.0257 - accuracy: 0.9933 - val_loss: 0.0762 - val_accuracy: 0.9762\n",
      "Epoch 14/30\n",
      "469/469 [==============================] - 0s 1ms/step - loss: 0.0206 - accuracy: 0.9948 - val_loss: 0.0734 - val_accuracy: 0.9778\n",
      "Epoch 15/30\n",
      "469/469 [==============================] - 1s 1ms/step - loss: 0.0191 - accuracy: 0.9958 - val_loss: 0.0844 - val_accuracy: 0.9740\n",
      "Epoch 16/30\n",
      "469/469 [==============================] - 1s 1ms/step - loss: 0.0165 - accuracy: 0.9966 - val_loss: 0.0734 - val_accuracy: 0.9775\n",
      "Epoch 17/30\n",
      "469/469 [==============================] - 0s 1ms/step - loss: 0.0133 - accuracy: 0.9976 - val_loss: 0.0810 - val_accuracy: 0.9763\n",
      "Epoch 18/30\n",
      "469/469 [==============================] - 0s 1ms/step - loss: 0.0117 - accuracy: 0.9979 - val_loss: 0.0790 - val_accuracy: 0.9782\n",
      "Epoch 19/30\n",
      "469/469 [==============================] - 0s 1ms/step - loss: 0.0106 - accuracy: 0.9979 - val_loss: 0.0803 - val_accuracy: 0.9782\n",
      "Epoch 20/30\n",
      "469/469 [==============================] - 0s 1ms/step - loss: 0.0085 - accuracy: 0.9985 - val_loss: 0.0841 - val_accuracy: 0.9750\n",
      "Epoch 21/30\n",
      "469/469 [==============================] - 0s 1ms/step - loss: 0.0084 - accuracy: 0.9984 - val_loss: 0.0826 - val_accuracy: 0.9766\n",
      "Epoch 22/30\n",
      "469/469 [==============================] - 0s 1ms/step - loss: 0.0077 - accuracy: 0.9986 - val_loss: 0.0903 - val_accuracy: 0.9758\n",
      "Epoch 23/30\n",
      "469/469 [==============================] - 0s 1ms/step - loss: 0.0060 - accuracy: 0.9991 - val_loss: 0.0830 - val_accuracy: 0.9776\n",
      "Epoch 24/30\n",
      "469/469 [==============================] - 0s 1ms/step - loss: 0.0059 - accuracy: 0.9991 - val_loss: 0.0923 - val_accuracy: 0.9764\n",
      "Epoch 25/30\n",
      "469/469 [==============================] - 0s 1ms/step - loss: 0.0054 - accuracy: 0.9993 - val_loss: 0.0912 - val_accuracy: 0.9774\n",
      "Epoch 26/30\n",
      "469/469 [==============================] - 0s 1ms/step - loss: 0.0037 - accuracy: 0.9997 - val_loss: 0.0908 - val_accuracy: 0.9783\n",
      "Epoch 27/30\n",
      "469/469 [==============================] - 0s 1ms/step - loss: 0.0025 - accuracy: 0.9999 - val_loss: 0.0843 - val_accuracy: 0.9786\n",
      "Epoch 28/30\n",
      "469/469 [==============================] - 0s 1ms/step - loss: 0.0030 - accuracy: 0.9997 - val_loss: 0.0964 - val_accuracy: 0.9770\n",
      "Epoch 29/30\n",
      "469/469 [==============================] - 0s 1ms/step - loss: 0.0053 - accuracy: 0.9989 - val_loss: 0.0961 - val_accuracy: 0.9780\n",
      "Epoch 30/30\n",
      "469/469 [==============================] - 0s 1ms/step - loss: 0.0037 - accuracy: 0.9995 - val_loss: 0.1017 - val_accuracy: 0.9767\n"
     ]
    }
   ],
   "source": [
    "# 訓練模型並將訓練過程所產生的資訊儲存在model_train\n",
    "# 可根據下面所繪製的train accuracy與validation accuracy圖,設定不同的epochs\n",
    "model_train=model.fit(train_images_normal,train_labels_oh,epochs=30,batch_size=128,validation_data=(test_images_normal,test_labels_oh))"
   ]
  },
  {
   "cell_type": "code",
   "execution_count": 13,
   "metadata": {},
   "outputs": [
    {
     "name": "stdout",
     "output_type": "stream",
     "text": [
      "79/79 [==============================] - 0s 701us/step - loss: 0.1017 - accuracy: 0.9767\n"
     ]
    },
    {
     "data": {
      "text/plain": [
       "[0.10169127583503723, 0.9767000079154968]"
      ]
     },
     "execution_count": 13,
     "metadata": {},
     "output_type": "execute_result"
    }
   ],
   "source": [
    "# 測試模型效果\n",
    "model.evaluate(test_images_normal,test_labels_oh,batch_size=128)"
   ]
  },
  {
   "cell_type": "code",
   "execution_count": 14,
   "metadata": {},
   "outputs": [
    {
     "data": {
      "text/plain": [
       "array([[4.3361777e-12, 6.8830976e-17, 3.3953662e-09, 1.9386379e-04,\n",
       "        4.5382499e-18, 3.4990431e-11, 1.3481044e-21, 9.9980575e-01,\n",
       "        2.3571177e-07, 6.8086500e-08]], dtype=float32)"
      ]
     },
     "execution_count": 14,
     "metadata": {},
     "output_type": "execute_result"
    }
   ],
   "source": [
    "model.predict(test_images_normal[:1])"
   ]
  },
  {
   "cell_type": "code",
   "execution_count": 15,
   "metadata": {},
   "outputs": [
    {
     "data": {
      "text/plain": [
       "array([7])"
      ]
     },
     "execution_count": 15,
     "metadata": {},
     "output_type": "execute_result"
    }
   ],
   "source": [
    "np.argmax(model.predict(test_images_normal[:1]), axis=-1)"
   ]
  },
  {
   "cell_type": "code",
   "execution_count": 16,
   "metadata": {},
   "outputs": [
    {
     "name": "stderr",
     "output_type": "stream",
     "text": [
      "/Users/frank/anaconda3/lib/python3.8/site-packages/tensorflow/python/keras/engine/sequential.py:450: UserWarning: `model.predict_classes()` is deprecated and will be removed after 2021-01-01. Please use instead:* `np.argmax(model.predict(x), axis=-1)`,   if your model does multi-class classification   (e.g. if it uses a `softmax` last-layer activation).* `(model.predict(x) > 0.5).astype(\"int32\")`,   if your model does binary classification   (e.g. if it uses a `sigmoid` last-layer activation).\n",
      "  warnings.warn('`model.predict_classes()` is deprecated and '\n"
     ]
    },
    {
     "data": {
      "text/plain": [
       "array([7])"
      ]
     },
     "execution_count": 16,
     "metadata": {},
     "output_type": "execute_result"
    }
   ],
   "source": [
    "model.predict_classes(test_images_normal[:1])"
   ]
  },
  {
   "cell_type": "code",
   "execution_count": 17,
   "metadata": {},
   "outputs": [
    {
     "data": {
      "text/plain": [
       "array([[4.3361608e-12, 6.8830976e-17, 3.3953402e-09, ..., 9.9980575e-01,\n",
       "        2.3570998e-07, 6.8085974e-08],\n",
       "       [1.9169829e-16, 2.5480812e-08, 1.0000000e+00, ..., 1.3983854e-25,\n",
       "        8.2729240e-14, 2.6321008e-20],\n",
       "       [5.0294401e-11, 9.9994254e-01, 8.0423406e-06, ..., 1.4140994e-05,\n",
       "        3.4623059e-05, 6.1740460e-11],\n",
       "       ...,\n",
       "       [8.9774618e-23, 8.2792443e-20, 3.7757597e-23, ..., 8.8861817e-12,\n",
       "        4.2954027e-13, 1.1403747e-08],\n",
       "       [3.3030637e-16, 3.1712933e-17, 2.2844560e-19, ..., 8.6990524e-18,\n",
       "        4.8533497e-09, 1.0936678e-18],\n",
       "       [4.7615467e-17, 3.5831473e-22, 1.7713654e-15, ..., 4.3604126e-26,\n",
       "        2.6882155e-20, 7.1911641e-18]], dtype=float32)"
      ]
     },
     "execution_count": 17,
     "metadata": {},
     "output_type": "execute_result"
    }
   ],
   "source": [
    "model.predict(test_images_normal)"
   ]
  },
  {
   "cell_type": "code",
   "execution_count": 18,
   "metadata": {},
   "outputs": [
    {
     "data": {
      "text/plain": [
       "array([7, 2, 1, ..., 4, 5, 6])"
      ]
     },
     "execution_count": 18,
     "metadata": {},
     "output_type": "execute_result"
    }
   ],
   "source": [
    "model_pred = np.argmax(model.predict(test_images_normal),axis=-1) \n",
    "model_pred"
   ]
  },
  {
   "cell_type": "code",
   "execution_count": 19,
   "metadata": {},
   "outputs": [
    {
     "data": {
      "text/html": [
       "<div>\n",
       "<style scoped>\n",
       "    .dataframe tbody tr th:only-of-type {\n",
       "        vertical-align: middle;\n",
       "    }\n",
       "\n",
       "    .dataframe tbody tr th {\n",
       "        vertical-align: top;\n",
       "    }\n",
       "\n",
       "    .dataframe thead th {\n",
       "        text-align: right;\n",
       "    }\n",
       "</style>\n",
       "<table border=\"1\" class=\"dataframe\">\n",
       "  <thead>\n",
       "    <tr style=\"text-align: right;\">\n",
       "      <th>預測數字</th>\n",
       "      <th>0</th>\n",
       "      <th>1</th>\n",
       "      <th>2</th>\n",
       "      <th>3</th>\n",
       "      <th>4</th>\n",
       "      <th>5</th>\n",
       "      <th>6</th>\n",
       "      <th>7</th>\n",
       "      <th>8</th>\n",
       "      <th>9</th>\n",
       "    </tr>\n",
       "    <tr>\n",
       "      <th>真實數字</th>\n",
       "      <th></th>\n",
       "      <th></th>\n",
       "      <th></th>\n",
       "      <th></th>\n",
       "      <th></th>\n",
       "      <th></th>\n",
       "      <th></th>\n",
       "      <th></th>\n",
       "      <th></th>\n",
       "      <th></th>\n",
       "    </tr>\n",
       "  </thead>\n",
       "  <tbody>\n",
       "    <tr>\n",
       "      <th>0</th>\n",
       "      <td>970</td>\n",
       "      <td>0</td>\n",
       "      <td>1</td>\n",
       "      <td>2</td>\n",
       "      <td>0</td>\n",
       "      <td>0</td>\n",
       "      <td>3</td>\n",
       "      <td>1</td>\n",
       "      <td>2</td>\n",
       "      <td>1</td>\n",
       "    </tr>\n",
       "    <tr>\n",
       "      <th>1</th>\n",
       "      <td>0</td>\n",
       "      <td>1124</td>\n",
       "      <td>4</td>\n",
       "      <td>1</td>\n",
       "      <td>0</td>\n",
       "      <td>0</td>\n",
       "      <td>3</td>\n",
       "      <td>0</td>\n",
       "      <td>3</td>\n",
       "      <td>0</td>\n",
       "    </tr>\n",
       "    <tr>\n",
       "      <th>2</th>\n",
       "      <td>1</td>\n",
       "      <td>4</td>\n",
       "      <td>1004</td>\n",
       "      <td>5</td>\n",
       "      <td>1</td>\n",
       "      <td>0</td>\n",
       "      <td>1</td>\n",
       "      <td>5</td>\n",
       "      <td>10</td>\n",
       "      <td>1</td>\n",
       "    </tr>\n",
       "    <tr>\n",
       "      <th>3</th>\n",
       "      <td>0</td>\n",
       "      <td>0</td>\n",
       "      <td>3</td>\n",
       "      <td>990</td>\n",
       "      <td>0</td>\n",
       "      <td>4</td>\n",
       "      <td>0</td>\n",
       "      <td>6</td>\n",
       "      <td>4</td>\n",
       "      <td>3</td>\n",
       "    </tr>\n",
       "    <tr>\n",
       "      <th>4</th>\n",
       "      <td>2</td>\n",
       "      <td>0</td>\n",
       "      <td>1</td>\n",
       "      <td>1</td>\n",
       "      <td>954</td>\n",
       "      <td>0</td>\n",
       "      <td>7</td>\n",
       "      <td>4</td>\n",
       "      <td>0</td>\n",
       "      <td>13</td>\n",
       "    </tr>\n",
       "    <tr>\n",
       "      <th>5</th>\n",
       "      <td>3</td>\n",
       "      <td>0</td>\n",
       "      <td>0</td>\n",
       "      <td>14</td>\n",
       "      <td>1</td>\n",
       "      <td>866</td>\n",
       "      <td>3</td>\n",
       "      <td>1</td>\n",
       "      <td>2</td>\n",
       "      <td>2</td>\n",
       "    </tr>\n",
       "    <tr>\n",
       "      <th>6</th>\n",
       "      <td>3</td>\n",
       "      <td>3</td>\n",
       "      <td>1</td>\n",
       "      <td>2</td>\n",
       "      <td>3</td>\n",
       "      <td>2</td>\n",
       "      <td>943</td>\n",
       "      <td>0</td>\n",
       "      <td>0</td>\n",
       "      <td>1</td>\n",
       "    </tr>\n",
       "    <tr>\n",
       "      <th>7</th>\n",
       "      <td>1</td>\n",
       "      <td>4</td>\n",
       "      <td>6</td>\n",
       "      <td>5</td>\n",
       "      <td>0</td>\n",
       "      <td>1</td>\n",
       "      <td>1</td>\n",
       "      <td>996</td>\n",
       "      <td>6</td>\n",
       "      <td>8</td>\n",
       "    </tr>\n",
       "    <tr>\n",
       "      <th>8</th>\n",
       "      <td>4</td>\n",
       "      <td>2</td>\n",
       "      <td>5</td>\n",
       "      <td>12</td>\n",
       "      <td>3</td>\n",
       "      <td>4</td>\n",
       "      <td>5</td>\n",
       "      <td>2</td>\n",
       "      <td>933</td>\n",
       "      <td>4</td>\n",
       "    </tr>\n",
       "    <tr>\n",
       "      <th>9</th>\n",
       "      <td>1</td>\n",
       "      <td>2</td>\n",
       "      <td>0</td>\n",
       "      <td>4</td>\n",
       "      <td>4</td>\n",
       "      <td>2</td>\n",
       "      <td>2</td>\n",
       "      <td>5</td>\n",
       "      <td>2</td>\n",
       "      <td>987</td>\n",
       "    </tr>\n",
       "  </tbody>\n",
       "</table>\n",
       "</div>"
      ],
      "text/plain": [
       "預測數字    0     1     2    3    4    5    6    7    8    9\n",
       "真實數字                                                    \n",
       "0     970     0     1    2    0    0    3    1    2    1\n",
       "1       0  1124     4    1    0    0    3    0    3    0\n",
       "2       1     4  1004    5    1    0    1    5   10    1\n",
       "3       0     0     3  990    0    4    0    6    4    3\n",
       "4       2     0     1    1  954    0    7    4    0   13\n",
       "5       3     0     0   14    1  866    3    1    2    2\n",
       "6       3     3     1    2    3    2  943    0    0    1\n",
       "7       1     4     6    5    0    1    1  996    6    8\n",
       "8       4     2     5   12    3    4    5    2  933    4\n",
       "9       1     2     0    4    4    2    2    5    2  987"
      ]
     },
     "execution_count": 19,
     "metadata": {},
     "output_type": "execute_result"
    }
   ],
   "source": [
    "pd.crosstab(test_labels, model_pred, rownames=['真實數字'], colnames=['預測數字'])"
   ]
  },
  {
   "cell_type": "code",
   "execution_count": 20,
   "metadata": {},
   "outputs": [
    {
     "data": {
      "text/plain": [
       "{'loss': [0.37987303733825684,\n",
       "  0.1806585192680359,\n",
       "  0.13193291425704956,\n",
       "  0.10319086164236069,\n",
       "  0.08437980711460114,\n",
       "  0.07036309689283371,\n",
       "  0.0601089745759964,\n",
       "  0.05195729807019234,\n",
       "  0.04514748603105545,\n",
       "  0.03913818299770355,\n",
       "  0.033526383340358734,\n",
       "  0.029592301696538925,\n",
       "  0.026292189955711365,\n",
       "  0.022264933213591576,\n",
       "  0.01946377009153366,\n",
       "  0.016839198768138885,\n",
       "  0.014390585944056511,\n",
       "  0.013067159801721573,\n",
       "  0.01095308642834425,\n",
       "  0.00998568907380104,\n",
       "  0.008805941790342331,\n",
       "  0.008034379221498966,\n",
       "  0.006375115364789963,\n",
       "  0.007069945335388184,\n",
       "  0.005583241116255522,\n",
       "  0.003904324257746339,\n",
       "  0.0028722567949444056,\n",
       "  0.003373925108462572,\n",
       "  0.005820678547024727,\n",
       "  0.0033867033198475838],\n",
       " 'accuracy': [0.8957333564758301,\n",
       "  0.9486333131790161,\n",
       "  0.9628166556358337,\n",
       "  0.9705166816711426,\n",
       "  0.9762166738510132,\n",
       "  0.9797333478927612,\n",
       "  0.9830833077430725,\n",
       "  0.985450029373169,\n",
       "  0.9871666431427002,\n",
       "  0.9891999959945679,\n",
       "  0.9911666512489319,\n",
       "  0.9918666481971741,\n",
       "  0.992900013923645,\n",
       "  0.9943166375160217,\n",
       "  0.995199978351593,\n",
       "  0.9961333274841309,\n",
       "  0.9969666600227356,\n",
       "  0.9972166419029236,\n",
       "  0.9976833462715149,\n",
       "  0.9978833198547363,\n",
       "  0.998199999332428,\n",
       "  0.998533308506012,\n",
       "  0.9989500045776367,\n",
       "  0.9984833598136902,\n",
       "  0.9991333484649658,\n",
       "  0.9995333552360535,\n",
       "  0.9998166561126709,\n",
       "  0.9995833039283752,\n",
       "  0.9987999796867371,\n",
       "  0.9995166659355164],\n",
       " 'val_loss': [0.21534697711467743,\n",
       "  0.15418633818626404,\n",
       "  0.12191528081893921,\n",
       "  0.10649383813142776,\n",
       "  0.10151132196187973,\n",
       "  0.0854092538356781,\n",
       "  0.0870317593216896,\n",
       "  0.07969653606414795,\n",
       "  0.08107253909111023,\n",
       "  0.07962077856063843,\n",
       "  0.07765363156795502,\n",
       "  0.07441971451044083,\n",
       "  0.07615641504526138,\n",
       "  0.07338027656078339,\n",
       "  0.08441287279129028,\n",
       "  0.07335632294416428,\n",
       "  0.0809912383556366,\n",
       "  0.07895112782716751,\n",
       "  0.08027714490890503,\n",
       "  0.08410732448101044,\n",
       "  0.08256620913743973,\n",
       "  0.0903187245130539,\n",
       "  0.08298962563276291,\n",
       "  0.09229963272809982,\n",
       "  0.09122198075056076,\n",
       "  0.09080319851636887,\n",
       "  0.08426610380411148,\n",
       "  0.09638438373804092,\n",
       "  0.09606695920228958,\n",
       "  0.10169127583503723],\n",
       " 'val_accuracy': [0.9381999969482422,\n",
       "  0.9552000164985657,\n",
       "  0.9635000228881836,\n",
       "  0.9686999917030334,\n",
       "  0.9690999984741211,\n",
       "  0.9745000004768372,\n",
       "  0.9740999937057495,\n",
       "  0.9764000177383423,\n",
       "  0.9758999943733215,\n",
       "  0.9753000140190125,\n",
       "  0.9768999814987183,\n",
       "  0.9771999716758728,\n",
       "  0.9761999845504761,\n",
       "  0.9778000116348267,\n",
       "  0.9739999771118164,\n",
       "  0.9775000214576721,\n",
       "  0.9763000011444092,\n",
       "  0.9782000184059143,\n",
       "  0.9782000184059143,\n",
       "  0.9750000238418579,\n",
       "  0.9765999913215637,\n",
       "  0.9757999777793884,\n",
       "  0.9775999784469604,\n",
       "  0.9764000177383423,\n",
       "  0.977400004863739,\n",
       "  0.9782999753952026,\n",
       "  0.978600025177002,\n",
       "  0.9769999980926514,\n",
       "  0.9779999852180481,\n",
       "  0.9767000079154968]}"
      ]
     },
     "execution_count": 20,
     "metadata": {},
     "output_type": "execute_result"
    }
   ],
   "source": [
    "model_train.history"
   ]
  },
  {
   "cell_type": "code",
   "execution_count": 21,
   "metadata": {},
   "outputs": [
    {
     "data": {
      "image/png": "[encoded data removed]",
      "text/plain": [
       "<Figure size 720x360 with 2 Axes>"
      ]
     },
     "metadata": {
      "needs_background": "light"
     },
     "output_type": "display_data"
    }
   ],
   "source": [
    "plt.figure(figsize=(10,5))\n",
    "ax1=plt.subplot(1,2,1)\n",
    "train_loss=model_train.history['loss']\n",
    "train_val_loss=model_train.history['val_loss']\n",
    "train_epochs=range(1,len(train_loss)+1)\n",
    "ax1.plot(train_epochs,train_loss,label='Training Loss')\n",
    "ax1.plot(train_epochs,train_val_loss,label='Validation Loss')\n",
    "plt.xlabel('Epoches')\n",
    "plt.ylabel('Loss')\n",
    "plt.legend()\n",
    "\n",
    "ax2=plt.subplot(1,2,2)\n",
    "train_acc=model_train.history['accuracy']\n",
    "train_val_acc=model_train.history['val_accuracy']\n",
    "train_epochs=range(1,len(train_loss)+1)\n",
    "ax2.plot(train_epochs,train_acc,label='Training Accuracy')\n",
    "ax2.plot(train_epochs,train_val_acc,label='Validation Accuracy')\n",
    "plt.xlabel('Epoches')\n",
    "plt.ylabel('Accuracy')\n",
    "plt.legend()\n",
    "plt.show()"
   ]
  },
  {
   "cell_type": "code",
   "execution_count": 22,
   "metadata": {},
   "outputs": [
    {
     "name": "stdout",
     "output_type": "stream",
     "text": [
      "Model: \"sequential_1\"\n",
      "_________________________________________________________________\n",
      "Layer (type)                 Output Shape              Param #   \n",
      "=================================================================\n",
      "flatten_1 (Flatten)          (None, 784)               0         \n",
      "_________________________________________________________________\n",
      "dense_2 (Dense)              (None, 100)               78500     \n",
      "_________________________________________________________________\n",
      "dropout (Dropout)            (None, 100)               0         \n",
      "_________________________________________________________________\n",
      "dense_3 (Dense)              (None, 10)                1010      \n",
      "=================================================================\n",
      "Total params: 79,510\n",
      "Trainable params: 79,510\n",
      "Non-trainable params: 0\n",
      "_________________________________________________________________\n"
     ]
    }
   ],
   "source": [
    "# 建立模型,加上Dropout層用以對抗overfit\n",
    "# 1.輸入層：原本為(28,28),經過平坦化(1維)成為(768,)\n",
    "# 2.隱藏層：100個神經元,活化函數使用Relu\n",
    "# 4.丟棄層：丟棄20%的神經元結果,讓模型更具泛化能力\n",
    "# 4.輸出層：10個輸出結果,活化函數使用softmax,可讓10個輸出結果的可能出現機率,加總後為1\n",
    "\n",
    "model1=keras.models.Sequential()\n",
    "model1.add(keras.layers.Flatten(input_shape=(28,28)))\n",
    "model1.add(keras.layers.Dense(units=100,activation='relu'))\n",
    "model1.add(keras.layers.Dropout(0.2))\n",
    "model1.add(keras.layers.Dense(units=10,activation='softmax'))\n",
    "\n",
    "model1.summary()"
   ]
  },
  {
   "cell_type": "code",
   "execution_count": 23,
   "metadata": {},
   "outputs": [
    {
     "name": "stdout",
     "output_type": "stream",
     "text": [
      "Epoch 1/30\n",
      "469/469 [==============================] - 1s 1ms/step - loss: 0.7124 - accuracy: 0.7930 - val_loss: 0.2093 - val_accuracy: 0.9401\n",
      "Epoch 2/30\n",
      "469/469 [==============================] - 1s 1ms/step - loss: 0.2314 - accuracy: 0.9347 - val_loss: 0.1510 - val_accuracy: 0.9554\n",
      "Epoch 3/30\n",
      "469/469 [==============================] - 1s 1ms/step - loss: 0.1718 - accuracy: 0.9502 - val_loss: 0.1265 - val_accuracy: 0.9634\n",
      "Epoch 4/30\n",
      "469/469 [==============================] - 1s 1ms/step - loss: 0.1468 - accuracy: 0.9559 - val_loss: 0.1126 - val_accuracy: 0.9676\n",
      "Epoch 5/30\n",
      "469/469 [==============================] - 1s 1ms/step - loss: 0.1202 - accuracy: 0.9651 - val_loss: 0.0968 - val_accuracy: 0.9718\n",
      "Epoch 6/30\n",
      "469/469 [==============================] - 1s 1ms/step - loss: 0.1077 - accuracy: 0.9687 - val_loss: 0.0936 - val_accuracy: 0.9719\n",
      "Epoch 7/30\n",
      "469/469 [==============================] - 1s 1ms/step - loss: 0.0900 - accuracy: 0.9724 - val_loss: 0.0866 - val_accuracy: 0.9739\n",
      "Epoch 8/30\n",
      "469/469 [==============================] - 1s 1ms/step - loss: 0.0902 - accuracy: 0.9724 - val_loss: 0.0853 - val_accuracy: 0.9747\n",
      "Epoch 9/30\n",
      "469/469 [==============================] - 1s 1ms/step - loss: 0.0767 - accuracy: 0.9765 - val_loss: 0.0792 - val_accuracy: 0.9761\n",
      "Epoch 10/30\n",
      "469/469 [==============================] - 1s 1ms/step - loss: 0.0708 - accuracy: 0.9786 - val_loss: 0.0745 - val_accuracy: 0.9773\n",
      "Epoch 11/30\n",
      "469/469 [==============================] - 1s 1ms/step - loss: 0.0659 - accuracy: 0.9794 - val_loss: 0.0732 - val_accuracy: 0.9788\n",
      "Epoch 12/30\n",
      "469/469 [==============================] - 1s 1ms/step - loss: 0.0605 - accuracy: 0.9811 - val_loss: 0.0730 - val_accuracy: 0.9787\n",
      "Epoch 13/30\n",
      "469/469 [==============================] - 1s 1ms/step - loss: 0.0588 - accuracy: 0.9814 - val_loss: 0.0716 - val_accuracy: 0.9793\n",
      "Epoch 14/30\n",
      "469/469 [==============================] - 1s 1ms/step - loss: 0.0535 - accuracy: 0.9826 - val_loss: 0.0711 - val_accuracy: 0.9790\n",
      "Epoch 15/30\n",
      "469/469 [==============================] - 1s 1ms/step - loss: 0.0501 - accuracy: 0.9833 - val_loss: 0.0717 - val_accuracy: 0.9784\n",
      "Epoch 16/30\n",
      "469/469 [==============================] - 1s 1ms/step - loss: 0.0483 - accuracy: 0.9850 - val_loss: 0.0661 - val_accuracy: 0.9792\n",
      "Epoch 17/30\n",
      "469/469 [==============================] - 1s 1ms/step - loss: 0.0468 - accuracy: 0.9845 - val_loss: 0.0665 - val_accuracy: 0.9788\n",
      "Epoch 18/30\n",
      "469/469 [==============================] - 1s 1ms/step - loss: 0.0431 - accuracy: 0.9864 - val_loss: 0.0668 - val_accuracy: 0.9808\n",
      "Epoch 19/30\n",
      "469/469 [==============================] - 1s 1ms/step - loss: 0.0409 - accuracy: 0.9863 - val_loss: 0.0691 - val_accuracy: 0.9791\n",
      "Epoch 20/30\n",
      "469/469 [==============================] - 1s 1ms/step - loss: 0.0407 - accuracy: 0.9871 - val_loss: 0.0712 - val_accuracy: 0.9792\n",
      "Epoch 21/30\n",
      "469/469 [==============================] - 1s 1ms/step - loss: 0.0367 - accuracy: 0.9881 - val_loss: 0.0712 - val_accuracy: 0.9790\n",
      "Epoch 22/30\n",
      "469/469 [==============================] - 1s 1ms/step - loss: 0.0384 - accuracy: 0.9864 - val_loss: 0.0690 - val_accuracy: 0.9803\n",
      "Epoch 23/30\n",
      "469/469 [==============================] - 1s 1ms/step - loss: 0.0332 - accuracy: 0.9890 - val_loss: 0.0707 - val_accuracy: 0.9793\n",
      "Epoch 24/30\n",
      "469/469 [==============================] - 1s 1ms/step - loss: 0.0323 - accuracy: 0.9895 - val_loss: 0.0731 - val_accuracy: 0.9796\n",
      "Epoch 25/30\n",
      "469/469 [==============================] - 1s 1ms/step - loss: 0.0321 - accuracy: 0.9894 - val_loss: 0.0673 - val_accuracy: 0.9815\n",
      "Epoch 26/30\n",
      "469/469 [==============================] - 1s 1ms/step - loss: 0.0316 - accuracy: 0.9896 - val_loss: 0.0726 - val_accuracy: 0.9801\n",
      "Epoch 27/30\n",
      "469/469 [==============================] - 1s 1ms/step - loss: 0.0312 - accuracy: 0.9893 - val_loss: 0.0753 - val_accuracy: 0.9806\n",
      "Epoch 28/30\n",
      "469/469 [==============================] - 1s 1ms/step - loss: 0.0301 - accuracy: 0.9900 - val_loss: 0.0757 - val_accuracy: 0.9787\n",
      "Epoch 29/30\n",
      "469/469 [==============================] - 1s 1ms/step - loss: 0.0260 - accuracy: 0.9914 - val_loss: 0.0773 - val_accuracy: 0.9790\n",
      "Epoch 30/30\n",
      "469/469 [==============================] - 1s 1ms/step - loss: 0.0290 - accuracy: 0.9904 - val_loss: 0.0766 - val_accuracy: 0.9797\n"
     ]
    }
   ],
   "source": [
    "model1.compile(loss='categorical_crossentropy', optimizer='adam',metrics='accuracy')\n",
    "model1_train=model1.fit(train_images_normal,train_labels_oh,epochs=30,batch_size=128,validation_data=(test_images_normal,test_labels_oh))"
   ]
  },
  {
   "cell_type": "code",
   "execution_count": 24,
   "metadata": {},
   "outputs": [
    {
     "data": {
      "image/png": "[encoded data removed]",
      "text/plain": [
       "<Figure size 720x360 with 2 Axes>"
      ]
     },
     "metadata": {
      "needs_background": "light"
     },
     "output_type": "display_data"
    }
   ],
   "source": [
    "plt.figure(figsize=(10,5))\n",
    "ax1=plt.subplot(1,2,1)\n",
    "train_loss1=model1_train.history['loss']\n",
    "train_val_loss1=model1_train.history['val_loss']\n",
    "train_epochs1=range(1,len(train_loss1)+1)\n",
    "ax1.plot(train_epochs1,train_loss1,label='Training Loss')\n",
    "ax1.plot(train_epochs1,train_val_loss1,label='Validation Loss')\n",
    "plt.xlabel('Epoches')\n",
    "plt.ylabel('Loss')\n",
    "plt.legend()\n",
    "\n",
    "ax2=plt.subplot(1,2,2)\n",
    "train_acc1=model1_train.history['accuracy']\n",
    "train_val_acc1=model1_train.history['val_accuracy']\n",
    "train_epochs1=range(1,len(train_loss1)+1)\n",
    "ax2.plot(train_epochs1,train_acc1,label='Training Accuracy')\n",
    "ax2.plot(train_epochs1,train_val_acc1,label='Validation Accuracy')\n",
    "plt.xlabel('Epoches')\n",
    "plt.ylabel('Accuracy')\n",
    "plt.legend()\n",
    "plt.show()"
   ]
  },
  {
   "cell_type": "code",
   "execution_count": null,
   "metadata": {},
   "outputs": [],
   "source": []
  }
 ],
 "metadata": {
  "kernelspec": {
   "display_name": "Python 3",
   "language": "python",
   "name": "python3"
  },
  "language_info": {
   "codemirror_mode": {
    "name": "ipython",
    "version": 3
   },
   "file_extension": ".py",
   "mimetype": "text/x-python",
   "name": "python",
   "nbconvert_exporter": "python",
   "pygments_lexer": "ipython3",
   "version": "3.8.5"
  }
 },
 "nbformat": 4,
 "nbformat_minor": 4
}
