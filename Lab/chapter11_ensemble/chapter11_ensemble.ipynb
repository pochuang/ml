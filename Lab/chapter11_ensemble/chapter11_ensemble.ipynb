{
 "cells": [
  {
   "cell_type": "code",
   "execution_count": 1,
   "metadata": {},
   "outputs": [],
   "source": [
    "import pandas as pd\n",
    "from sklearn import svm, metrics\n",
    "from sklearn.model_selection import train_test_split\n",
    "import warnings \n",
    "warnings.filterwarnings(action='ignore')"
   ]
  },
  {
   "cell_type": "code",
   "execution_count": 2,
   "metadata": {},
   "outputs": [],
   "source": [
    "wine_df = pd.read_csv(r'C:\\pyml_scripts\\chapter11_ensemble\\winequality-red.csv',sep=';')\n",
    "wine_data = wine_df.drop('quality',axis=1)\n",
    "wine_label = wine_df[\"quality\"]\n",
    "train_data, test_data, train_label, test_label = train_test_split(wine_data, wine_label,test_size=0.1)"
   ]
  },
  {
   "cell_type": "code",
   "execution_count": 3,
   "metadata": {},
   "outputs": [],
   "source": [
    "from sklearn.ensemble import BaggingClassifier\n",
    "from sklearn.neighbors import KNeighborsClassifier"
   ]
  },
  {
   "cell_type": "code",
   "execution_count": 4,
   "metadata": {},
   "outputs": [
    {
     "name": "stdout",
     "output_type": "stream",
     "text": [
      "訓練準確度 0.9124391938846421 測試準確度 0.725\n"
     ]
    }
   ],
   "source": [
    "#使用knn當作弱學習器\n",
    "bcknn = BaggingClassifier(base_estimator=KNeighborsClassifier(n_neighbors=3),n_estimators=50,bootstrap=True,bootstrap_features=True,max_samples=0.80,max_features=0.80)\n",
    "bcknn.fit(train_data, train_label)\n",
    "pred = bcknn.predict(test_data)\n",
    "ac_score = metrics.accuracy_score(test_label, pred)\n",
    "print(\"訓練準確度\",bcknn.score(train_data,train_label),\"測試準確度\",bcknn.score(test_data,test_label))"
   ]
  },
  {
   "cell_type": "raw",
   "metadata": {},
   "source": [
    "training_score遠大於testing_score,表示overfit"
   ]
  },
  {
   "cell_type": "code",
   "execution_count": 5,
   "metadata": {},
   "outputs": [
    {
     "data": {
      "text/html": [
       "<style>#sk-container-id-1 {color: black;background-color: white;}#sk-container-id-1 pre{padding: 0;}#sk-container-id-1 div.sk-toggleable {background-color: white;}#sk-container-id-1 label.sk-toggleable__label {cursor: pointer;display: block;width: 100%;margin-bottom: 0;padding: 0.3em;box-sizing: border-box;text-align: center;}#sk-container-id-1 label.sk-toggleable__label-arrow:before {content: \"▸\";float: left;margin-right: 0.25em;color: #696969;}#sk-container-id-1 label.sk-toggleable__label-arrow:hover:before {color: black;}#sk-container-id-1 div.sk-estimator:hover label.sk-toggleable__label-arrow:before {color: black;}#sk-container-id-1 div.sk-toggleable__content {max-height: 0;max-width: 0;overflow: hidden;text-align: left;background-color: #f0f8ff;}#sk-container-id-1 div.sk-toggleable__content pre {margin: 0.2em;color: black;border-radius: 0.25em;background-color: #f0f8ff;}#sk-container-id-1 input.sk-toggleable__control:checked~div.sk-toggleable__content {max-height: 200px;max-width: 100%;overflow: auto;}#sk-container-id-1 input.sk-toggleable__control:checked~label.sk-toggleable__label-arrow:before {content: \"▾\";}#sk-container-id-1 div.sk-estimator input.sk-toggleable__control:checked~label.sk-toggleable__label {background-color: #d4ebff;}#sk-container-id-1 div.sk-label input.sk-toggleable__control:checked~label.sk-toggleable__label {background-color: #d4ebff;}#sk-container-id-1 input.sk-hidden--visually {border: 0;clip: rect(1px 1px 1px 1px);clip: rect(1px, 1px, 1px, 1px);height: 1px;margin: -1px;overflow: hidden;padding: 0;position: absolute;width: 1px;}#sk-container-id-1 div.sk-estimator {font-family: monospace;background-color: #f0f8ff;border: 1px dotted black;border-radius: 0.25em;box-sizing: border-box;margin-bottom: 0.5em;}#sk-container-id-1 div.sk-estimator:hover {background-color: #d4ebff;}#sk-container-id-1 div.sk-parallel-item::after {content: \"\";width: 100%;border-bottom: 1px solid gray;flex-grow: 1;}#sk-container-id-1 div.sk-label:hover label.sk-toggleable__label {background-color: #d4ebff;}#sk-container-id-1 div.sk-serial::before {content: \"\";position: absolute;border-left: 1px solid gray;box-sizing: border-box;top: 0;bottom: 0;left: 50%;z-index: 0;}#sk-container-id-1 div.sk-serial {display: flex;flex-direction: column;align-items: center;background-color: white;padding-right: 0.2em;padding-left: 0.2em;position: relative;}#sk-container-id-1 div.sk-item {position: relative;z-index: 1;}#sk-container-id-1 div.sk-parallel {display: flex;align-items: stretch;justify-content: center;background-color: white;position: relative;}#sk-container-id-1 div.sk-item::before, #sk-container-id-1 div.sk-parallel-item::before {content: \"\";position: absolute;border-left: 1px solid gray;box-sizing: border-box;top: 0;bottom: 0;left: 50%;z-index: -1;}#sk-container-id-1 div.sk-parallel-item {display: flex;flex-direction: column;z-index: 1;position: relative;background-color: white;}#sk-container-id-1 div.sk-parallel-item:first-child::after {align-self: flex-end;width: 50%;}#sk-container-id-1 div.sk-parallel-item:last-child::after {align-self: flex-start;width: 50%;}#sk-container-id-1 div.sk-parallel-item:only-child::after {width: 0;}#sk-container-id-1 div.sk-dashed-wrapped {border: 1px dashed gray;margin: 0 0.4em 0.5em 0.4em;box-sizing: border-box;padding-bottom: 0.4em;background-color: white;}#sk-container-id-1 div.sk-label label {font-family: monospace;font-weight: bold;display: inline-block;line-height: 1.2em;}#sk-container-id-1 div.sk-label-container {text-align: center;}#sk-container-id-1 div.sk-container {/* jupyter's `normalize.less` sets `[hidden] { display: none; }` but bootstrap.min.css set `[hidden] { display: none !important; }` so we also need the `!important` here to be able to override the default hidden behavior on the sphinx rendered scikit-learn.org. See: https://github.com/scikit-learn/scikit-learn/issues/21755 */display: inline-block !important;position: relative;}#sk-container-id-1 div.sk-text-repr-fallback {display: none;}</style><div id=\"sk-container-id-1\" class=\"sk-top-container\"><div class=\"sk-text-repr-fallback\"><pre>KNeighborsClassifier(n_neighbors=3)</pre><b>In a Jupyter environment, please rerun this cell to show the HTML representation or trust the notebook. <br />On GitHub, the HTML representation is unable to render, please try loading this page with nbviewer.org.</b></div><div class=\"sk-container\" hidden><div class=\"sk-item\"><div class=\"sk-estimator sk-toggleable\"><input class=\"sk-toggleable__control sk-hidden--visually\" id=\"sk-estimator-id-1\" type=\"checkbox\" checked><label for=\"sk-estimator-id-1\" class=\"sk-toggleable__label sk-toggleable__label-arrow\">KNeighborsClassifier</label><div class=\"sk-toggleable__content\"><pre>KNeighborsClassifier(n_neighbors=3)</pre></div></div></div></div></div>"
      ],
      "text/plain": [
       "KNeighborsClassifier(n_neighbors=3)"
      ]
     },
     "execution_count": 5,
     "metadata": {},
     "output_type": "execute_result"
    }
   ],
   "source": [
    "bcknn.base_estimator_"
   ]
  },
  {
   "cell_type": "code",
   "execution_count": 6,
   "metadata": {
    "scrolled": true
   },
   "outputs": [
    {
     "data": {
      "text/plain": [
       "[KNeighborsClassifier(n_neighbors=3),\n",
       " KNeighborsClassifier(n_neighbors=3),\n",
       " KNeighborsClassifier(n_neighbors=3),\n",
       " KNeighborsClassifier(n_neighbors=3),\n",
       " KNeighborsClassifier(n_neighbors=3),\n",
       " KNeighborsClassifier(n_neighbors=3),\n",
       " KNeighborsClassifier(n_neighbors=3),\n",
       " KNeighborsClassifier(n_neighbors=3),\n",
       " KNeighborsClassifier(n_neighbors=3),\n",
       " KNeighborsClassifier(n_neighbors=3),\n",
       " KNeighborsClassifier(n_neighbors=3),\n",
       " KNeighborsClassifier(n_neighbors=3),\n",
       " KNeighborsClassifier(n_neighbors=3),\n",
       " KNeighborsClassifier(n_neighbors=3),\n",
       " KNeighborsClassifier(n_neighbors=3),\n",
       " KNeighborsClassifier(n_neighbors=3),\n",
       " KNeighborsClassifier(n_neighbors=3),\n",
       " KNeighborsClassifier(n_neighbors=3),\n",
       " KNeighborsClassifier(n_neighbors=3),\n",
       " KNeighborsClassifier(n_neighbors=3),\n",
       " KNeighborsClassifier(n_neighbors=3),\n",
       " KNeighborsClassifier(n_neighbors=3),\n",
       " KNeighborsClassifier(n_neighbors=3),\n",
       " KNeighborsClassifier(n_neighbors=3),\n",
       " KNeighborsClassifier(n_neighbors=3),\n",
       " KNeighborsClassifier(n_neighbors=3),\n",
       " KNeighborsClassifier(n_neighbors=3),\n",
       " KNeighborsClassifier(n_neighbors=3),\n",
       " KNeighborsClassifier(n_neighbors=3),\n",
       " KNeighborsClassifier(n_neighbors=3),\n",
       " KNeighborsClassifier(n_neighbors=3),\n",
       " KNeighborsClassifier(n_neighbors=3),\n",
       " KNeighborsClassifier(n_neighbors=3),\n",
       " KNeighborsClassifier(n_neighbors=3),\n",
       " KNeighborsClassifier(n_neighbors=3),\n",
       " KNeighborsClassifier(n_neighbors=3),\n",
       " KNeighborsClassifier(n_neighbors=3),\n",
       " KNeighborsClassifier(n_neighbors=3),\n",
       " KNeighborsClassifier(n_neighbors=3),\n",
       " KNeighborsClassifier(n_neighbors=3),\n",
       " KNeighborsClassifier(n_neighbors=3),\n",
       " KNeighborsClassifier(n_neighbors=3),\n",
       " KNeighborsClassifier(n_neighbors=3),\n",
       " KNeighborsClassifier(n_neighbors=3),\n",
       " KNeighborsClassifier(n_neighbors=3),\n",
       " KNeighborsClassifier(n_neighbors=3),\n",
       " KNeighborsClassifier(n_neighbors=3),\n",
       " KNeighborsClassifier(n_neighbors=3),\n",
       " KNeighborsClassifier(n_neighbors=3),\n",
       " KNeighborsClassifier(n_neighbors=3)]"
      ]
     },
     "execution_count": 6,
     "metadata": {},
     "output_type": "execute_result"
    }
   ],
   "source": [
    "bcknn.estimators_"
   ]
  },
  {
   "cell_type": "code",
   "execution_count": 7,
   "metadata": {},
   "outputs": [
    {
     "name": "stdout",
     "output_type": "stream",
     "text": [
      "KNN3 訓練準確度 0.886726893676164 測試準確度 0.6625\n"
     ]
    }
   ],
   "source": [
    "#因為Knn使用距離計算近鄰,所以需要無量綱化\n",
    "from sklearn.preprocessing import StandardScaler\n",
    "\n",
    "X = StandardScaler().fit_transform(wine_data)\n",
    "train_data,test_data,train_label,test_label = train_test_split(X,wine_label,test_size=0.1)\n",
    "\n",
    "bcknn = BaggingClassifier(base_estimator=KNeighborsClassifier(n_neighbors=3),n_estimators=50,bootstrap=True,bootstrap_features=True,max_samples=0.80,max_features=0.80)\n",
    "bcknn.fit(train_data, train_label)\n",
    "print(\"KNN3\",\"訓練準確度\",bcknn.score(train_data,train_label),\"測試準確度\",bcknn.score(test_data,test_label))"
   ]
  },
  {
   "cell_type": "code",
   "execution_count": 8,
   "metadata": {},
   "outputs": [
    {
     "name": "stdout",
     "output_type": "stream",
     "text": [
      "KNN7 訓練準確度 0.7546907574704657 測試準確度 0.6125\n"
     ]
    }
   ],
   "source": [
    "#增加k值(k=7)以降低overfit\n",
    "bcknn = BaggingClassifier(base_estimator=KNeighborsClassifier(n_neighbors=7),n_estimators=50,bootstrap=True,bootstrap_features=True,max_samples=0.80,max_features=0.80)\n",
    "bcknn.fit(train_data, train_label)\n",
    "pred = bcknn.predict(test_data)\n",
    "ac_score = metrics.accuracy_score(test_label, pred)\n",
    "print(\"KNN7\",\"訓練準確度\",bcknn.score(train_data,train_label),\"測試準確度\",bcknn.score(test_data,test_label))"
   ]
  },
  {
   "cell_type": "code",
   "execution_count": 9,
   "metadata": {},
   "outputs": [
    {
     "name": "stdout",
     "output_type": "stream",
     "text": [
      "KNN10 訓練準確度 0.703961084086171 測試準確度 0.64375\n"
     ]
    }
   ],
   "source": [
    "#增加k值(k=10)\n",
    "bcknn = BaggingClassifier(base_estimator=KNeighborsClassifier(n_neighbors=10),n_estimators=50,bootstrap=True,bootstrap_features=True,max_samples=0.70,max_features=0.70)\n",
    "bcknn.fit(train_data, train_label)\n",
    "pred = bcknn.predict(test_data)\n",
    "ac_score = metrics.accuracy_score(test_label, pred)\n",
    "print(\"KNN10\",\"訓練準確度\",bcknn.score(train_data,train_label),\"測試準確度\",bcknn.score(test_data,test_label))"
   ]
  },
  {
   "cell_type": "code",
   "execution_count": 10,
   "metadata": {},
   "outputs": [
    {
     "name": "stdout",
     "output_type": "stream",
     "text": [
      "KNN20 訓練準確度 0.6469770674079222 測試準確度 0.61875\n"
     ]
    }
   ],
   "source": [
    "#增加k值(k=20)\n",
    "bcknn = BaggingClassifier(base_estimator=KNeighborsClassifier(n_neighbors=20),n_estimators=50,bootstrap=True,bootstrap_features=True,max_samples=0.80,max_features=0.80)\n",
    "bcknn.fit(train_data, train_label)\n",
    "pred = bcknn.predict(test_data)\n",
    "ac_score = metrics.accuracy_score(test_label, pred)\n",
    "print(\"KNN20\",\"訓練準確度\",bcknn.score(train_data,train_label),\"測試準確度\",bcknn.score(test_data,test_label))"
   ]
  },
  {
   "cell_type": "code",
   "execution_count": 11,
   "metadata": {},
   "outputs": [
    {
     "name": "stdout",
     "output_type": "stream",
     "text": [
      "KNN30 訓練準確度 0.645587213342599 測試準確度 0.63125\n"
     ]
    }
   ],
   "source": [
    "#增加k值(k=30)\n",
    "bcknn = BaggingClassifier(base_estimator=KNeighborsClassifier(n_neighbors=30),n_estimators=50,bootstrap=True,bootstrap_features=True,max_samples=0.80,max_features=0.80)\n",
    "bcknn.fit(train_data, train_label)\n",
    "pred = bcknn.predict(test_data)\n",
    "ac_score = metrics.accuracy_score(test_label, pred)\n",
    "print(\"KNN30\",\"訓練準確度\",bcknn.score(train_data,train_label),\"測試準確度\",bcknn.score(test_data,test_label))"
   ]
  },
  {
   "cell_type": "code",
   "execution_count": 12,
   "metadata": {},
   "outputs": [
    {
     "name": "stdout",
     "output_type": "stream",
     "text": [
      "KNN3 estimator 150 訓練準確度 0.8929812369701181 測試準確度 0.66875\n"
     ]
    }
   ],
   "source": [
    "#不增加k值,而是增加estimator數量\n",
    "bcknn = BaggingClassifier(base_estimator=KNeighborsClassifier(n_neighbors=3),n_estimators=150,bootstrap=True,bootstrap_features=True,max_samples=0.80,max_features=0.80)\n",
    "bcknn.fit(train_data, train_label)\n",
    "pred = bcknn.predict(test_data)\n",
    "ac_score = metrics.accuracy_score(test_label, pred)\n",
    "print(\"KNN3 estimator 150\",\"訓練準確度\",bcknn.score(train_data,train_label),\"測試準確度\",bcknn.score(test_data,test_label))"
   ]
  },
  {
   "cell_type": "code",
   "execution_count": 13,
   "metadata": {},
   "outputs": [
    {
     "name": "stdout",
     "output_type": "stream",
     "text": [
      "KNN20 estimator 150 訓練準確度 0.655316191799861 測試準確度 0.625\n"
     ]
    }
   ],
   "source": [
    "#增加k值與增加estimator數量\n",
    "bcknn = BaggingClassifier(base_estimator=KNeighborsClassifier(n_neighbors=20),n_estimators=150,bootstrap=True,bootstrap_features=True,max_samples=0.80,max_features=0.80)\n",
    "bcknn.fit(train_data, train_label)\n",
    "pred = bcknn.predict(test_data)\n",
    "ac_score = metrics.accuracy_score(test_label, pred)\n",
    "print(\"KNN20 estimator 150\",\"訓練準確度\",bcknn.score(train_data,train_label),\"測試準確度\",bcknn.score(test_data,test_label))"
   ]
  },
  {
   "cell_type": "code",
   "execution_count": 14,
   "metadata": {},
   "outputs": [
    {
     "name": "stdout",
     "output_type": "stream",
     "text": [
      "GNB estimator 150 訓練準確度 0.5740097289784573 測試準確度 0.58125\n"
     ]
    }
   ],
   "source": [
    "from sklearn.naive_bayes import GaussianNB\n",
    "nb = GaussianNB()\n",
    "nbg = BaggingClassifier(base_estimator=nb,n_estimators=150,bootstrap=True,bootstrap_features=True,max_samples=0.80,max_features=0.80)\n",
    "nbg.fit(train_data, train_label)\n",
    "pred = bcknn.predict(test_data)\n",
    "ac_score = metrics.accuracy_score(test_label, pred)\n",
    "print(\"GNB estimator 150\",\"訓練準確度\",nbg.score(train_data,train_label),\"測試準確度\",nbg.score(test_data,test_label))"
   ]
  },
  {
   "cell_type": "raw",
   "metadata": {},
   "source": [
    "#tree model不必要進行無量綱化,在scikit learn模組使用RF,僅需要數值化特徵\n",
    "#目前winequality-red.csv已經都是數值資料\n",
    "wine_df = pd.read_csv('C:\\pyml_scripts\\chapter11_ensemble\\winequality-red.csv',sep=';')\n",
    "wine_data = wine_df.drop('quality',axis=1)\n",
    "wine_label = wine_df[\"quality\"]\n",
    "train_data, test_data, train_label, test_label = train_test_split(wine_data, wine_label,test_size=0.1)"
   ]
  },
  {
   "cell_type": "code",
   "execution_count": 15,
   "metadata": {},
   "outputs": [
    {
     "name": "stdout",
     "output_type": "stream",
     "text": [
      "Training Random Forest Accurancy :  1.0\n",
      "Test Random Forest Accurancy :  0.66875\n"
     ]
    }
   ],
   "source": [
    "from sklearn.ensemble import RandomForestClassifier\n",
    "rfc = RandomForestClassifier(n_estimators=50,criterion='entropy')\n",
    "rfc.fit(train_data, train_label)\n",
    "pred = rfc.predict(test_data)\n",
    "ac_score = metrics.accuracy_score(test_label, pred)\n",
    "print(\"Training Random Forest Accurancy : \", rfc.score(train_data,train_label))\n",
    "print(\"Test Random Forest Accurancy : \", ac_score)"
   ]
  },
  {
   "cell_type": "code",
   "execution_count": 16,
   "metadata": {},
   "outputs": [
    {
     "name": "stdout",
     "output_type": "stream",
     "text": [
      "Training Random Forest Accurancy :  1.0\n",
      "Test Random Forest Accurancy :  0.6625\n"
     ]
    }
   ],
   "source": [
    "from sklearn.ensemble import RandomForestClassifier\n",
    "rfc = RandomForestClassifier(n_estimators=200,criterion='entropy')\n",
    "rfc.fit(train_data, train_label)\n",
    "pred = rfc.predict(test_data)\n",
    "ac_score = metrics.accuracy_score(test_label, pred)\n",
    "print(\"Training Random Forest Accurancy : \", rfc.score(train_data,train_label))\n",
    "print(\"Test Random Forest Accurancy : \", ac_score)"
   ]
  },
  {
   "cell_type": "code",
   "execution_count": 17,
   "metadata": {},
   "outputs": [
    {
     "name": "stdout",
     "output_type": "stream",
     "text": [
      "Training Random Forest Accurancy :  1.0\n",
      "Test Random Forest Accurancy :  0.66875\n"
     ]
    }
   ],
   "source": [
    "from sklearn.ensemble import RandomForestClassifier\n",
    "rfc = RandomForestClassifier(n_estimators=50,criterion='gini')\n",
    "rfc.fit(train_data, train_label)\n",
    "pred = rfc.predict(test_data)\n",
    "ac_score = metrics.accuracy_score(test_label, pred)\n",
    "print(\"Training Random Forest Accurancy : \", rfc.score(train_data,train_label))\n",
    "print(\"Test Random Forest Accurancy : \", ac_score)"
   ]
  },
  {
   "cell_type": "code",
   "execution_count": 18,
   "metadata": {},
   "outputs": [
    {
     "name": "stdout",
     "output_type": "stream",
     "text": [
      "Random Forest Accurancy :  0.66875\n"
     ]
    }
   ],
   "source": [
    "from sklearn.ensemble import RandomForestClassifier\n",
    "rfc = RandomForestClassifier(n_estimators=200,criterion='gini')\n",
    "rfc.fit(train_data, train_label)\n",
    "pred = rfc.predict(test_data)\n",
    "ac_score = metrics.accuracy_score(test_label, pred)\n",
    "print(\"Random Forest Accurancy : \", ac_score)"
   ]
  },
  {
   "cell_type": "markdown",
   "metadata": {},
   "source": [
    "### scikit-learn的Extratree為random forest的變形\n",
    "### 使用所有資料,不事先抽樣部分資料.特徵分裂位置隨機在min~max選擇"
   ]
  },
  {
   "cell_type": "code",
   "execution_count": 19,
   "metadata": {},
   "outputs": [
    {
     "name": "stdout",
     "output_type": "stream",
     "text": [
      "Extra Trees Accurancy :  0.6625\n"
     ]
    }
   ],
   "source": [
    "from sklearn.ensemble import ExtraTreesClassifier\n",
    "etc = ExtraTreesClassifier(n_estimators=50,criterion='entropy')\n",
    "etc.fit(train_data, train_label)\n",
    "pred = etc.predict(test_data)\n",
    "ac_score = metrics.accuracy_score(test_label, pred)\n",
    "print(\"Extra Trees Accurancy : \", ac_score)"
   ]
  },
  {
   "cell_type": "code",
   "execution_count": 20,
   "metadata": {},
   "outputs": [
    {
     "name": "stdout",
     "output_type": "stream",
     "text": [
      "Extra Trees Accurancy :  0.6875\n"
     ]
    }
   ],
   "source": [
    "from sklearn.ensemble import ExtraTreesClassifier\n",
    "etc = ExtraTreesClassifier(n_estimators=200,criterion='entropy')\n",
    "etc.fit(train_data, train_label)\n",
    "pred = etc.predict(test_data)\n",
    "ac_score = metrics.accuracy_score(test_label, pred)\n",
    "print(\"Extra Trees Accurancy : \", ac_score)"
   ]
  },
  {
   "cell_type": "markdown",
   "metadata": {},
   "source": [
    "### 以下為Boosting"
   ]
  },
  {
   "cell_type": "code",
   "execution_count": 21,
   "metadata": {},
   "outputs": [
    {
     "name": "stdout",
     "output_type": "stream",
     "text": [
      "Training AdaBoosting Accurancy :  0.5455177206393329\n",
      "Test AdaBoosting Accurancy :  0.53125\n"
     ]
    }
   ],
   "source": [
    "#類似RF,但不是使用整個完整樹,而是使用樹樁(stump:一個節點帶兩個葉片)\n",
    "from sklearn.ensemble import AdaBoostClassifier\n",
    "abc = AdaBoostClassifier(n_estimators=200)\n",
    "abc.fit(train_data,train_label)\n",
    "pred = abc.predict(test_data)\n",
    "ac_score = metrics.accuracy_score(test_label, pred)\n",
    "print(\"Training AdaBoosting Accurancy : \", abc.score(train_data,train_label))\n",
    "print(\"Test AdaBoosting Accurancy : \", ac_score)"
   ]
  },
  {
   "cell_type": "code",
   "execution_count": 22,
   "metadata": {},
   "outputs": [
    {
     "name": "stdout",
     "output_type": "stream",
     "text": [
      "Training AdaBoosting Accurancy :  0.5559416261292565\n",
      "Test AdaBoosting Accurancy :  0.53125\n"
     ]
    }
   ],
   "source": [
    "abc = AdaBoostClassifier(n_estimators=500)\n",
    "abc.fit(train_data,train_label)\n",
    "pred = abc.predict(test_data)\n",
    "ac_score = metrics.accuracy_score(test_label, pred)\n",
    "print(\"Training AdaBoosting Accurancy : \", abc.score(train_data,train_label))\n",
    "print(\"Test AdaBoosting Accurancy : \", ac_score)"
   ]
  },
  {
   "cell_type": "code",
   "execution_count": 23,
   "metadata": {},
   "outputs": [
    {
     "name": "stdout",
     "output_type": "stream",
     "text": [
      "Training AdaBoosting Accurancy :  0.5580264072272412\n",
      "Test AdaBoosting Accurancy :  0.53125\n"
     ]
    }
   ],
   "source": [
    "abc = AdaBoostClassifier(n_estimators=1000)\n",
    "abc.fit(train_data,train_label)\n",
    "pred = abc.predict(test_data)\n",
    "ac_score = metrics.accuracy_score(test_label, pred)\n",
    "print(\"Training AdaBoosting Accurancy : \", abc.score(train_data,train_label))\n",
    "print(\"Test AdaBoosting Accurancy : \", ac_score)"
   ]
  },
  {
   "cell_type": "code",
   "execution_count": 24,
   "metadata": {},
   "outputs": [
    {
     "name": "stdout",
     "output_type": "stream",
     "text": [
      "Training Gradient Boosting Accurancy :  0.9589993050729674\n",
      "Test Gradient Boosting Accurancy :  0.68125\n"
     ]
    }
   ],
   "source": [
    "from sklearn.ensemble import GradientBoostingClassifier\n",
    "gbc = GradientBoostingClassifier(n_estimators=200)\n",
    "gbc.fit(train_data,train_label)\n",
    "pred = gbc.predict(test_data)\n",
    "ac_score = metrics.accuracy_score(test_label, pred)\n",
    "print(\"Training Gradient Boosting Accurancy : \", gbc.score(train_data,train_label))\n",
    "print(\"Test Gradient Boosting Accurancy : \", ac_score)"
   ]
  },
  {
   "cell_type": "code",
   "execution_count": 25,
   "metadata": {},
   "outputs": [
    {
     "name": "stdout",
     "output_type": "stream",
     "text": [
      "Training Gradient Boosting Accurancy :  1.0\n",
      "Test Gradient Boosting Accurancy :  0.68125\n"
     ]
    }
   ],
   "source": [
    "from sklearn.ensemble import GradientBoostingClassifier\n",
    "gbc = GradientBoostingClassifier(n_estimators=500)\n",
    "gbc.fit(train_data,train_label)\n",
    "pred = gbc.predict(test_data)\n",
    "print(\"Training Gradient Boosting Accurancy : \", gbc.score(train_data,train_label))\n",
    "print(\"Test Gradient Boosting Accurancy : \", ac_score)"
   ]
  },
  {
   "cell_type": "code",
   "execution_count": 26,
   "metadata": {},
   "outputs": [],
   "source": [
    "from sklearn.ensemble import VotingClassifier\n",
    "from sklearn.linear_model import LogisticRegression\n",
    "from sklearn.tree import DecisionTreeClassifier\n",
    "from sklearn.svm import SVC\n",
    "from sklearn.pipeline import make_pipeline\n",
    "from sklearn.preprocessing import StandardScaler\n",
    "\n",
    "est = []\n",
    "m1 = LogisticRegression(max_iter=3000)\n",
    "est.append(('Logistic',m1))\n",
    "m2 = DecisionTreeClassifier()\n",
    "est.append(('DT',m2))\n",
    "m3 = SVC()\n",
    "est.append(('SVC',m3))\n",
    "ests = [('Logistic', make_pipeline(StandardScaler(),(m1))),('DT', m2),('SVC',make_pipeline(StandardScaler(),(m3)))]"
   ]
  },
  {
   "cell_type": "code",
   "execution_count": 27,
   "metadata": {},
   "outputs": [
    {
     "data": {
      "text/plain": [
       "[('Logistic',\n",
       "  Pipeline(steps=[('standardscaler', StandardScaler()),\n",
       "                  ('logisticregression', LogisticRegression(max_iter=3000))])),\n",
       " ('DT', DecisionTreeClassifier()),\n",
       " ('SVC',\n",
       "  Pipeline(steps=[('standardscaler', StandardScaler()), ('svc', SVC())]))]"
      ]
     },
     "execution_count": 27,
     "metadata": {},
     "output_type": "execute_result"
    }
   ],
   "source": [
    "ests"
   ]
  },
  {
   "cell_type": "code",
   "execution_count": 28,
   "metadata": {},
   "outputs": [
    {
     "data": {
      "text/plain": [
       "0.58125"
      ]
     },
     "execution_count": 28,
     "metadata": {},
     "output_type": "execute_result"
    }
   ],
   "source": [
    "#測試LR的準確度\n",
    "make_pipeline(StandardScaler(),(m1)).fit(train_data,train_label)\n",
    "make_pipeline(StandardScaler(),(m1)).fit(train_data,train_label).score(test_data,test_label)"
   ]
  },
  {
   "cell_type": "code",
   "execution_count": 29,
   "metadata": {},
   "outputs": [
    {
     "name": "stdout",
     "output_type": "stream",
     "text": [
      "----------單一演算法---------\n",
      "Logisic準確率:0.58125\n",
      "DT準確率:0.6\n",
      "SVC準確率:0.63125\n"
     ]
    }
   ],
   "source": [
    "s1=make_pipeline(StandardScaler(),(m1)).fit(train_data,train_label).score(test_data,test_label)\n",
    "s2=make_pipeline(StandardScaler(),(m2)).fit(train_data,train_label).score(test_data,test_label)\n",
    "s3=make_pipeline(StandardScaler(),(m3)).fit(train_data,train_label).score(test_data,test_label)\n",
    "print('----------單一演算法---------')\n",
    "print('Logisic準確率:{}'.format(s1))\n",
    "print('DT準確率:{}'.format(s2))\n",
    "print('SVC準確率:{}'.format(s3))"
   ]
  },
  {
   "cell_type": "code",
   "execution_count": 30,
   "metadata": {},
   "outputs": [
    {
     "name": "stdout",
     "output_type": "stream",
     "text": [
      "Voting ensemble Accurancy :  0.68125\n"
     ]
    }
   ],
   "source": [
    "#個別分類器的預測結果進行多數決\n",
    "vc = VotingClassifier(ests)\n",
    "vc.fit(train_data,train_label)\n",
    "pred = vc.predict(test_data)\n",
    "sc_score = metrics.accuracy_score(test_label,pred)\n",
    "print(\"Voting ensemble Accurancy : \",ac_score)"
   ]
  },
  {
   "cell_type": "code",
   "execution_count": 31,
   "metadata": {},
   "outputs": [
    {
     "name": "stdout",
     "output_type": "stream",
     "text": [
      "Training Voting ensemble Accurancy :  0.9485753995830438\n",
      "Test Voting ensemble Accurancy :  0.68125\n"
     ]
    }
   ],
   "source": [
    "est = []\n",
    "m1 = BaggingClassifier(base_estimator=KNeighborsClassifier(n_neighbors=3),n_estimators=100,bootstrap=True,bootstrap_features=True,max_samples=0.80,max_features=0.80)\n",
    "est.append(('Bagging_Knn',m1))\n",
    "m2 = RandomForestClassifier(n_estimators=100,criterion='entropy')\n",
    "est.append(('RF',m2))\n",
    "m3 = GradientBoostingClassifier(n_estimators=100)\n",
    "est.append(('GBDT',m3))\n",
    "ests = [('Bagging_Knn', m1),('RandomForest', m2),('GBDT',m3)]\n",
    "vc = VotingClassifier(ests)\n",
    "vc.fit(train_data,train_label)\n",
    "pred = vc.predict(test_data)\n",
    "sc_score = metrics.accuracy_score(test_label,pred)\n",
    "print(\"Training Voting ensemble Accurancy : \",vc.score(train_data,train_label))\n",
    "print(\"Test Voting ensemble Accurancy : \",ac_score)"
   ]
  },
  {
   "cell_type": "code",
   "execution_count": 32,
   "metadata": {},
   "outputs": [
    {
     "name": "stdout",
     "output_type": "stream",
     "text": [
      "1.2.0\n"
     ]
    }
   ],
   "source": [
    "import sklearn\n",
    "print(sklearn.__version__)"
   ]
  },
  {
   "cell_type": "code",
   "execution_count": 33,
   "metadata": {},
   "outputs": [],
   "source": [
    "from sklearn import model_selection\n",
    "from sklearn.pipeline import make_pipeline\n",
    "from sklearn.preprocessing import StandardScaler\n",
    "from sklearn.linear_model import LogisticRegression\n",
    "from sklearn import svm\n",
    "from sklearn.naive_bayes import GaussianNB \n",
    "from sklearn.ensemble import RandomForestClassifier\n",
    "from sklearn.ensemble import StackingClassifier #0.22\n",
    "import numpy as np"
   ]
  },
  {
   "cell_type": "markdown",
   "metadata": {},
   "source": [
    "### KNN,RF,GNB當作基本分類器\n",
    "### LR作為元分類器"
   ]
  },
  {
   "cell_type": "code",
   "execution_count": 34,
   "metadata": {},
   "outputs": [],
   "source": [
    "clf1 = svm.SVC()\n",
    "clf2 = RandomForestClassifier(n_estimators=100)\n",
    "clf3 = GaussianNB()\n",
    "ests = [('SVC',make_pipeline(StandardScaler(),(clf1))),('rf', clf2),('gNB', make_pipeline(StandardScaler(),(clf3)))]"
   ]
  },
  {
   "cell_type": "code",
   "execution_count": 35,
   "metadata": {},
   "outputs": [],
   "source": [
    "lr = LogisticRegression(max_iter=1000)"
   ]
  },
  {
   "cell_type": "code",
   "execution_count": 36,
   "metadata": {},
   "outputs": [
    {
     "data": {
      "text/plain": [
       "0.7"
      ]
     },
     "execution_count": 36,
     "metadata": {},
     "output_type": "execute_result"
    }
   ],
   "source": [
    "sclf = StackingClassifier(estimators=ests, final_estimator=lr)\n",
    "sclf.fit(train_data,train_label).score(test_data,test_label)"
   ]
  },
  {
   "cell_type": "code",
   "execution_count": 38,
   "metadata": {},
   "outputs": [
    {
     "name": "stdout",
     "output_type": "stream",
     "text": [
      "{'max_features': 'log2', 'max_samples': 0.9, 'n_estimators': 300}\n"
     ]
    }
   ],
   "source": [
    "#grid search範例\n",
    "from sklearn.model_selection import GridSearchCV\n",
    "from sklearn.datasets import make_classification\n",
    "from sklearn.ensemble import RandomForestClassifier\n",
    "\n",
    "X, y = make_classification(n_samples=1000,                           \n",
    "                           n_features=10,                           \n",
    "                           n_informative=3,                          \n",
    "                           n_redundant=0,                           \n",
    "                           n_repeated=0,                           \n",
    "                           n_classes=2,                           \n",
    "                           random_state=0,                           \n",
    "                           shuffle=False)\n",
    "rfc = RandomForestClassifier(n_jobs=-1,max_features= 'sqrt' ,n_estimators=50, oob_score = True) \n",
    "\n",
    "param_grid = {'n_estimators': [10, 100, 200, 300, 400],'max_features': ['auto', 'sqrt', 'log2'],'max_samples': [0.7,0.8,0.9]}\n",
    "\n",
    "CV_rfc = GridSearchCV(estimator=rfc, param_grid=param_grid, cv= 5)\n",
    "CV_rfc.fit(X, y)\n",
    "\n",
    "print(CV_rfc.best_params_)\n"
   ]
  },
  {
   "cell_type": "code",
   "execution_count": null,
   "metadata": {},
   "outputs": [],
   "source": []
  }
 ],
 "metadata": {
  "kernelspec": {
   "display_name": "Python 3 (ipykernel)",
   "language": "python",
   "name": "python3"
  },
  "language_info": {
   "codemirror_mode": {
    "name": "ipython",
    "version": 3
   },
   "file_extension": ".py",
   "mimetype": "text/x-python",
   "name": "python",
   "nbconvert_exporter": "python",
   "pygments_lexer": "ipython3",
   "version": "3.9.16"
  }
 },
 "nbformat": 4,
 "nbformat_minor": 2
}
