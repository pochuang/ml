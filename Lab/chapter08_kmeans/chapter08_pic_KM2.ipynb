{
 "cells": [
  {
   "cell_type": "code",
   "execution_count": 1,
   "metadata": {},
   "outputs": [],
   "source": [
    "import matplotlib.pyplot as plt\n",
    "from sklearn.cluster import KMeans\n",
    "from sklearn.cluster import MiniBatchKMeans\n",
    "import numpy as np\n",
    "from PIL import Image\n",
    "import sys\n",
    "import warnings \n",
    "\n",
    "warnings.filterwarnings(action='ignore')"
   ]
  },
  {
   "cell_type": "code",
   "execution_count": 2,
   "metadata": {},
   "outputs": [
    {
     "name": "stdout",
     "output_type": "stream",
     "text": [
      "1000 667\n"
     ]
    }
   ],
   "source": [
    "fp = open(r\"C:\\pyml_scripts\\chapter08_kmeans\\shutterstock.jpg\",\"rb\")\n",
    "im = Image.open(fp)\n",
    "m,n = im.size\n",
    "\n",
    "print(m,n)"
   ]
  },
  {
   "cell_type": "code",
   "execution_count": 3,
   "metadata": {},
   "outputs": [],
   "source": [
    "data = []\n",
    "for i in range(m):\n",
    "    for j in range(n):\n",
    "        tmp = []\n",
    "        x,y,z = im.getpixel((i,j))\n",
    "        tmp.append(x/255.0)                  #R \n",
    "        tmp.append(y/255.0)                  #G\n",
    "        tmp.append(z/255.0)                  #B\n",
    "        data.append(tmp)\n",
    "\n",
    "fp.close\n",
    "\n",
    "data1 = np.array(data)"
   ]
  },
  {
   "cell_type": "code",
   "execution_count": 4,
   "metadata": {},
   "outputs": [
    {
     "data": {
      "text/plain": [
       "numpy.ndarray"
      ]
     },
     "execution_count": 4,
     "metadata": {},
     "output_type": "execute_result"
    }
   ],
   "source": [
    "type(data1)"
   ]
  },
  {
   "cell_type": "code",
   "execution_count": 5,
   "metadata": {},
   "outputs": [
    {
     "data": {
      "text/plain": [
       "array([0.40392157, 0.64705882, 0.88627451])"
      ]
     },
     "execution_count": 5,
     "metadata": {},
     "output_type": "execute_result"
    }
   ],
   "source": [
    "data1[0]"
   ]
  },
  {
   "cell_type": "code",
   "execution_count": 6,
   "metadata": {},
   "outputs": [
    {
     "data": {
      "text/plain": [
       "2001000"
      ]
     },
     "execution_count": 6,
     "metadata": {},
     "output_type": "execute_result"
    }
   ],
   "source": [
    "data1.size"
   ]
  },
  {
   "cell_type": "code",
   "execution_count": 7,
   "metadata": {},
   "outputs": [
    {
     "data": {
      "text/html": [
       "<style>#sk-container-id-1 {color: black;background-color: white;}#sk-container-id-1 pre{padding: 0;}#sk-container-id-1 div.sk-toggleable {background-color: white;}#sk-container-id-1 label.sk-toggleable__label {cursor: pointer;display: block;width: 100%;margin-bottom: 0;padding: 0.3em;box-sizing: border-box;text-align: center;}#sk-container-id-1 label.sk-toggleable__label-arrow:before {content: \"▸\";float: left;margin-right: 0.25em;color: #696969;}#sk-container-id-1 label.sk-toggleable__label-arrow:hover:before {color: black;}#sk-container-id-1 div.sk-estimator:hover label.sk-toggleable__label-arrow:before {color: black;}#sk-container-id-1 div.sk-toggleable__content {max-height: 0;max-width: 0;overflow: hidden;text-align: left;background-color: #f0f8ff;}#sk-container-id-1 div.sk-toggleable__content pre {margin: 0.2em;color: black;border-radius: 0.25em;background-color: #f0f8ff;}#sk-container-id-1 input.sk-toggleable__control:checked~div.sk-toggleable__content {max-height: 200px;max-width: 100%;overflow: auto;}#sk-container-id-1 input.sk-toggleable__control:checked~label.sk-toggleable__label-arrow:before {content: \"▾\";}#sk-container-id-1 div.sk-estimator input.sk-toggleable__control:checked~label.sk-toggleable__label {background-color: #d4ebff;}#sk-container-id-1 div.sk-label input.sk-toggleable__control:checked~label.sk-toggleable__label {background-color: #d4ebff;}#sk-container-id-1 input.sk-hidden--visually {border: 0;clip: rect(1px 1px 1px 1px);clip: rect(1px, 1px, 1px, 1px);height: 1px;margin: -1px;overflow: hidden;padding: 0;position: absolute;width: 1px;}#sk-container-id-1 div.sk-estimator {font-family: monospace;background-color: #f0f8ff;border: 1px dotted black;border-radius: 0.25em;box-sizing: border-box;margin-bottom: 0.5em;}#sk-container-id-1 div.sk-estimator:hover {background-color: #d4ebff;}#sk-container-id-1 div.sk-parallel-item::after {content: \"\";width: 100%;border-bottom: 1px solid gray;flex-grow: 1;}#sk-container-id-1 div.sk-label:hover label.sk-toggleable__label {background-color: #d4ebff;}#sk-container-id-1 div.sk-serial::before {content: \"\";position: absolute;border-left: 1px solid gray;box-sizing: border-box;top: 0;bottom: 0;left: 50%;z-index: 0;}#sk-container-id-1 div.sk-serial {display: flex;flex-direction: column;align-items: center;background-color: white;padding-right: 0.2em;padding-left: 0.2em;position: relative;}#sk-container-id-1 div.sk-item {position: relative;z-index: 1;}#sk-container-id-1 div.sk-parallel {display: flex;align-items: stretch;justify-content: center;background-color: white;position: relative;}#sk-container-id-1 div.sk-item::before, #sk-container-id-1 div.sk-parallel-item::before {content: \"\";position: absolute;border-left: 1px solid gray;box-sizing: border-box;top: 0;bottom: 0;left: 50%;z-index: -1;}#sk-container-id-1 div.sk-parallel-item {display: flex;flex-direction: column;z-index: 1;position: relative;background-color: white;}#sk-container-id-1 div.sk-parallel-item:first-child::after {align-self: flex-end;width: 50%;}#sk-container-id-1 div.sk-parallel-item:last-child::after {align-self: flex-start;width: 50%;}#sk-container-id-1 div.sk-parallel-item:only-child::after {width: 0;}#sk-container-id-1 div.sk-dashed-wrapped {border: 1px dashed gray;margin: 0 0.4em 0.5em 0.4em;box-sizing: border-box;padding-bottom: 0.4em;background-color: white;}#sk-container-id-1 div.sk-label label {font-family: monospace;font-weight: bold;display: inline-block;line-height: 1.2em;}#sk-container-id-1 div.sk-label-container {text-align: center;}#sk-container-id-1 div.sk-container {/* jupyter's `normalize.less` sets `[hidden] { display: none; }` but bootstrap.min.css set `[hidden] { display: none !important; }` so we also need the `!important` here to be able to override the default hidden behavior on the sphinx rendered scikit-learn.org. See: https://github.com/scikit-learn/scikit-learn/issues/21755 */display: inline-block !important;position: relative;}#sk-container-id-1 div.sk-text-repr-fallback {display: none;}</style><div id=\"sk-container-id-1\" class=\"sk-top-container\"><div class=\"sk-text-repr-fallback\"><pre>KMeans(n_clusters=2)</pre><b>In a Jupyter environment, please rerun this cell to show the HTML representation or trust the notebook. <br />On GitHub, the HTML representation is unable to render, please try loading this page with nbviewer.org.</b></div><div class=\"sk-container\" hidden><div class=\"sk-item\"><div class=\"sk-estimator sk-toggleable\"><input class=\"sk-toggleable__control sk-hidden--visually\" id=\"sk-estimator-id-1\" type=\"checkbox\" checked><label for=\"sk-estimator-id-1\" class=\"sk-toggleable__label sk-toggleable__label-arrow\">KMeans</label><div class=\"sk-toggleable__content\"><pre>KMeans(n_clusters=2)</pre></div></div></div></div></div>"
      ],
      "text/plain": [
       "KMeans(n_clusters=2)"
      ]
     },
     "execution_count": 7,
     "metadata": {},
     "output_type": "execute_result"
    }
   ],
   "source": [
    "KM2=KMeans(n_clusters=2)\n",
    "KM2.fit(data1)"
   ]
  },
  {
   "cell_type": "code",
   "execution_count": 8,
   "metadata": {},
   "outputs": [],
   "source": [
    "KM2.cluster_centers_\n",
    "f_center = KM2.cluster_centers_\n",
    "center=[]\n",
    "\n",
    "for line in f_center:\n",
    "    tmp = []\n",
    "    for x in line:\n",
    "        tmp.append(int(float(x)*255))\n",
    "    center.append(tuple(tmp))"
   ]
  },
  {
   "cell_type": "code",
   "execution_count": 9,
   "metadata": {},
   "outputs": [
    {
     "data": {
      "text/plain": [
       "[(73, 76, 76), (155, 171, 172)]"
      ]
     },
     "execution_count": 9,
     "metadata": {},
     "output_type": "execute_result"
    }
   ],
   "source": [
    "center"
   ]
  },
  {
   "cell_type": "code",
   "execution_count": 10,
   "metadata": {},
   "outputs": [
    {
     "data": {
      "text/plain": [
       "array([[0.28771648, 0.30030283, 0.30175517],\n",
       "       [0.60838827, 0.67419065, 0.67523474]])"
      ]
     },
     "execution_count": 10,
     "metadata": {},
     "output_type": "execute_result"
    }
   ],
   "source": [
    "f_center"
   ]
  },
  {
   "cell_type": "code",
   "execution_count": 11,
   "metadata": {},
   "outputs": [
    {
     "data": {
      "text/plain": [
       "array([1, 1, 1, ..., 0, 0, 0])"
      ]
     },
     "execution_count": 11,
     "metadata": {},
     "output_type": "execute_result"
    }
   ],
   "source": [
    "KM2.labels_"
   ]
  },
  {
   "cell_type": "code",
   "execution_count": 12,
   "metadata": {},
   "outputs": [],
   "source": [
    "pic_new = Image.new(\"RGB\",(m,n))\n",
    "i = 0\n",
    "for line in KM2.labels_:\n",
    "    index_n = int(line)\n",
    "    pic_new.putpixel((int(i/n),int(i%n)),center[index_n])\n",
    "    i = i + 1\n",
    "\n",
    "\n",
    "pic_new.save(r\"c:\\pyml_scripts\\chapter08_kmeans\\KM2.jpg\",\"JPEG\")"
   ]
  },
  {
   "cell_type": "code",
   "execution_count": 13,
   "metadata": {},
   "outputs": [],
   "source": [
    "KM3=KMeans(n_clusters=3)\n",
    "KM3.fit(data1)\n",
    "KM3.cluster_centers_\n",
    "f_center = KM3.cluster_centers_\n",
    "center=[]\n",
    "\n",
    "for line in f_center:\n",
    "    tmp = []\n",
    "    for x in line:\n",
    "        tmp.append(int(float(x)*255))\n",
    "    center.append(tuple(tmp))\n",
    "    \n",
    "pic_new = Image.new(\"RGB\",(m,n))\n",
    "i = 0\n",
    "for line in KM3.labels_:\n",
    "    index_n = int(line)\n",
    "    pic_new.putpixel((int(i/n),int(i%n)),center[index_n])\n",
    "    i = i + 1\n",
    "\n",
    "\n",
    "pic_new.save(r\"c:\\pyml_scripts\\chapter08_kmeans\\KM3.jpg\",\"JPEG\")"
   ]
  },
  {
   "cell_type": "code",
   "execution_count": 14,
   "metadata": {},
   "outputs": [],
   "source": [
    "KM20=KMeans(n_clusters=20)\n",
    "KM20.fit(data1)\n",
    "KM20.cluster_centers_\n",
    "f_center = KM20.cluster_centers_\n",
    "center=[]\n",
    "\n",
    "for line in f_center:\n",
    "    tmp = []\n",
    "    for x in line:\n",
    "        tmp.append(int(float(x)*255))\n",
    "    center.append(tuple(tmp))\n",
    "    \n",
    "pic_new = Image.new(\"RGB\",(m,n))\n",
    "i = 0\n",
    "for line in KM20.labels_:\n",
    "    index_n = int(line)\n",
    "    pic_new.putpixel((int(i/n),int(i%n)),center[index_n])\n",
    "    i = i + 1\n",
    "\n",
    "\n",
    "pic_new.save(r\"c:\\pyml_scripts\\chapter08_kmeans\\KM20.jpg\",\"JPEG\")"
   ]
  },
  {
   "cell_type": "code",
   "execution_count": 15,
   "metadata": {},
   "outputs": [],
   "source": [
    "miniKM20=MiniBatchKMeans(n_clusters=20) #batch_size=1024\n",
    "miniKM20.fit(data1)\n",
    "miniKM20.cluster_centers_\n",
    "f_center = miniKM20.cluster_centers_\n",
    "center=[]\n",
    "\n",
    "for line in f_center:\n",
    "    tmp = []\n",
    "    for x in line:\n",
    "        tmp.append(int(float(x)*255))\n",
    "    center.append(tuple(tmp))\n",
    "    \n",
    "pic_new = Image.new(\"RGB\",(m,n))\n",
    "i = 0\n",
    "for line in miniKM20.labels_:\n",
    "    index_n = int(line)\n",
    "    pic_new.putpixel((int(i/n),int(i%n)),center[index_n])\n",
    "    i = i + 1\n",
    "\n",
    "\n",
    "pic_new.save(r\"c:\\pyml_scripts\\chapter08_kmeans\\miniKM20.jpg\",\"JPEG\")"
   ]
  },
  {
   "cell_type": "raw",
   "metadata": {},
   "source": [
    "請比較KM20.jpg與miniKM20的差異"
   ]
  }
 ],
 "metadata": {
  "kernelspec": {
   "display_name": "Python 3 (ipykernel)",
   "language": "python",
   "name": "python3"
  },
  "language_info": {
   "codemirror_mode": {
    "name": "ipython",
    "version": 3
   },
   "file_extension": ".py",
   "mimetype": "text/x-python",
   "name": "python",
   "nbconvert_exporter": "python",
   "pygments_lexer": "ipython3",
   "version": "3.9.16"
  }
 },
 "nbformat": 4,
 "nbformat_minor": 2
}
