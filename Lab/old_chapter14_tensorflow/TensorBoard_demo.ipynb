{
 "cells": [
  {
   "cell_type": "code",
   "execution_count": 6,
   "metadata": {},
   "outputs": [],
   "source": [
    "import tensorflow as tf\n",
    "\n",
    "a = tf.constant(20, name=\"in_a\")\n",
    "b = tf.constant(10, name=\"in_b\")\n",
    "c = tf.multiply(a,b, name=\"mul_ab\")\n",
    "d = tf.add(a,b, name=\"add_ab\")\n",
    "e = tf.add(c,d, name=\"add_cd\")\n",
    "\n",
    "sess = tf.Session()\n",
    "\n",
    "sess.run(e)\n",
    "\n",
    "writer = tf.summary.FileWriter('./graph_dir', sess.graph)"
   ]
  },
  {
   "cell_type": "markdown",
   "metadata": {},
   "source": [
    "開啟一個python3.52的終端機，並執行下列指定\n",
    "$ tensorboard --logdir='graph_dir/' \n",
    "TensorBoard 0.4.0rc3 at http://PyML:6006 (Press CTRL+C to quit)\n",
    "\n",
    "在開啟一個Browser，連線到http://PyML:6006"
   ]
  },
  {
   "cell_type": "code",
   "execution_count": 7,
   "metadata": {
    "collapsed": true
   },
   "outputs": [],
   "source": [
    "writer.close()\n",
    "\n",
    "sess.close()"
   ]
  },
  {
   "cell_type": "code",
   "execution_count": null,
   "metadata": {
    "collapsed": true
   },
   "outputs": [],
   "source": []
  }
 ],
 "metadata": {
  "kernelspec": {
   "display_name": "Python 3",
   "language": "python",
   "name": "python3"
  },
  "language_info": {
   "codemirror_mode": {
    "name": "ipython",
    "version": 3
   },
   "file_extension": ".py",
   "mimetype": "text/x-python",
   "name": "python",
   "nbconvert_exporter": "python",
   "pygments_lexer": "ipython3",
   "version": "3.5.4"
  }
 },
 "nbformat": 4,
 "nbformat_minor": 2
}
