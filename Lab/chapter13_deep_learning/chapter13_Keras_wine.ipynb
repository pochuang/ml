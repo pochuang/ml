{
 "cells": [
  {
   "cell_type": "code",
   "execution_count": 1,
   "metadata": {},
   "outputs": [],
   "source": [
    "import keras\n",
    "from keras.utils import to_categorical \n",
    "import pandas as pd\n",
    "import numpy as np\n",
    "import matplotlib.pyplot as plt\n",
    "from sklearn import preprocessing, model_selection "
   ]
  },
  {
   "cell_type": "code",
   "execution_count": 2,
   "metadata": {},
   "outputs": [
    {
     "name": "stdout",
     "output_type": "stream",
     "text": [
      "  % Total    % Received % Xferd  Average Speed   Time    Time     Time  Current\n",
      "                                 Dload  Upload   Total   Spent    Left  Speed\n",
      "100 84199  100 84199    0     0  69701      0  0:00:01  0:00:01 --:--:-- 69701\n"
     ]
    },
    {
     "data": {
      "text/html": [
       "<div>\n",
       "<style scoped>\n",
       "    .dataframe tbody tr th:only-of-type {\n",
       "        vertical-align: middle;\n",
       "    }\n",
       "\n",
       "    .dataframe tbody tr th {\n",
       "        vertical-align: top;\n",
       "    }\n",
       "\n",
       "    .dataframe thead th {\n",
       "        text-align: right;\n",
       "    }\n",
       "</style>\n",
       "<table border=\"1\" class=\"dataframe\">\n",
       "  <thead>\n",
       "    <tr style=\"text-align: right;\">\n",
       "      <th></th>\n",
       "      <th>fixed acidity</th>\n",
       "      <th>volatile acidity</th>\n",
       "      <th>citric acid</th>\n",
       "      <th>residual sugar</th>\n",
       "      <th>chlorides</th>\n",
       "      <th>free sulfur dioxide</th>\n",
       "      <th>total sulfur dioxide</th>\n",
       "      <th>density</th>\n",
       "      <th>pH</th>\n",
       "      <th>sulphates</th>\n",
       "      <th>alcohol</th>\n",
       "      <th>quality</th>\n",
       "    </tr>\n",
       "  </thead>\n",
       "  <tbody>\n",
       "    <tr>\n",
       "      <th>0</th>\n",
       "      <td>7.4</td>\n",
       "      <td>0.70</td>\n",
       "      <td>0.00</td>\n",
       "      <td>1.9</td>\n",
       "      <td>0.076</td>\n",
       "      <td>11.0</td>\n",
       "      <td>34.0</td>\n",
       "      <td>0.9978</td>\n",
       "      <td>3.51</td>\n",
       "      <td>0.56</td>\n",
       "      <td>9.4</td>\n",
       "      <td>5</td>\n",
       "    </tr>\n",
       "    <tr>\n",
       "      <th>1</th>\n",
       "      <td>7.8</td>\n",
       "      <td>0.88</td>\n",
       "      <td>0.00</td>\n",
       "      <td>2.6</td>\n",
       "      <td>0.098</td>\n",
       "      <td>25.0</td>\n",
       "      <td>67.0</td>\n",
       "      <td>0.9968</td>\n",
       "      <td>3.20</td>\n",
       "      <td>0.68</td>\n",
       "      <td>9.8</td>\n",
       "      <td>5</td>\n",
       "    </tr>\n",
       "    <tr>\n",
       "      <th>2</th>\n",
       "      <td>7.8</td>\n",
       "      <td>0.76</td>\n",
       "      <td>0.04</td>\n",
       "      <td>2.3</td>\n",
       "      <td>0.092</td>\n",
       "      <td>15.0</td>\n",
       "      <td>54.0</td>\n",
       "      <td>0.9970</td>\n",
       "      <td>3.26</td>\n",
       "      <td>0.65</td>\n",
       "      <td>9.8</td>\n",
       "      <td>5</td>\n",
       "    </tr>\n",
       "    <tr>\n",
       "      <th>3</th>\n",
       "      <td>11.2</td>\n",
       "      <td>0.28</td>\n",
       "      <td>0.56</td>\n",
       "      <td>1.9</td>\n",
       "      <td>0.075</td>\n",
       "      <td>17.0</td>\n",
       "      <td>60.0</td>\n",
       "      <td>0.9980</td>\n",
       "      <td>3.16</td>\n",
       "      <td>0.58</td>\n",
       "      <td>9.8</td>\n",
       "      <td>6</td>\n",
       "    </tr>\n",
       "    <tr>\n",
       "      <th>4</th>\n",
       "      <td>7.4</td>\n",
       "      <td>0.70</td>\n",
       "      <td>0.00</td>\n",
       "      <td>1.9</td>\n",
       "      <td>0.076</td>\n",
       "      <td>11.0</td>\n",
       "      <td>34.0</td>\n",
       "      <td>0.9978</td>\n",
       "      <td>3.51</td>\n",
       "      <td>0.56</td>\n",
       "      <td>9.4</td>\n",
       "      <td>5</td>\n",
       "    </tr>\n",
       "  </tbody>\n",
       "</table>\n",
       "</div>"
      ],
      "text/plain": [
       "   fixed acidity  volatile acidity  citric acid  residual sugar  chlorides  \\\n",
       "0            7.4              0.70         0.00             1.9      0.076   \n",
       "1            7.8              0.88         0.00             2.6      0.098   \n",
       "2            7.8              0.76         0.04             2.3      0.092   \n",
       "3           11.2              0.28         0.56             1.9      0.075   \n",
       "4            7.4              0.70         0.00             1.9      0.076   \n",
       "\n",
       "   free sulfur dioxide  total sulfur dioxide  density    pH  sulphates  \\\n",
       "0                 11.0                  34.0   0.9978  3.51       0.56   \n",
       "1                 25.0                  67.0   0.9968  3.20       0.68   \n",
       "2                 15.0                  54.0   0.9970  3.26       0.65   \n",
       "3                 17.0                  60.0   0.9980  3.16       0.58   \n",
       "4                 11.0                  34.0   0.9978  3.51       0.56   \n",
       "\n",
       "   alcohol  quality  \n",
       "0      9.4        5  \n",
       "1      9.8        5  \n",
       "2      9.8        5  \n",
       "3      9.8        6  \n",
       "4      9.4        5  "
      ]
     },
     "execution_count": 2,
     "metadata": {},
     "output_type": "execute_result"
    }
   ],
   "source": [
    "!curl -O https://archive.ics.uci.edu/ml/machine-learning-databases/wine-quality/winequality-red.csv\n",
    "wine = pd.read_csv(\"winequality-red.csv\",sep=\";\",encoding=\"utf-8\")\n",
    "wine.head()"
   ]
  },
  {
   "cell_type": "code",
   "execution_count": 3,
   "metadata": {},
   "outputs": [
    {
     "name": "stdout",
     "output_type": "stream",
     "text": [
      "<class 'pandas.core.frame.DataFrame'>\n",
      "RangeIndex: 1599 entries, 0 to 1598\n",
      "Data columns (total 12 columns):\n",
      " #   Column                Non-Null Count  Dtype  \n",
      "---  ------                --------------  -----  \n",
      " 0   fixed acidity         1599 non-null   float64\n",
      " 1   volatile acidity      1599 non-null   float64\n",
      " 2   citric acid           1599 non-null   float64\n",
      " 3   residual sugar        1599 non-null   float64\n",
      " 4   chlorides             1599 non-null   float64\n",
      " 5   free sulfur dioxide   1599 non-null   float64\n",
      " 6   total sulfur dioxide  1599 non-null   float64\n",
      " 7   density               1599 non-null   float64\n",
      " 8   pH                    1599 non-null   float64\n",
      " 9   sulphates             1599 non-null   float64\n",
      " 10  alcohol               1599 non-null   float64\n",
      " 11  quality               1599 non-null   int64  \n",
      "dtypes: float64(11), int64(1)\n",
      "memory usage: 150.0 KB\n"
     ]
    }
   ],
   "source": [
    "wine.info()"
   ]
  },
  {
   "cell_type": "code",
   "execution_count": 4,
   "metadata": {},
   "outputs": [
    {
     "data": {
      "text/html": [
       "<div>\n",
       "<style scoped>\n",
       "    .dataframe tbody tr th:only-of-type {\n",
       "        vertical-align: middle;\n",
       "    }\n",
       "\n",
       "    .dataframe tbody tr th {\n",
       "        vertical-align: top;\n",
       "    }\n",
       "\n",
       "    .dataframe thead th {\n",
       "        text-align: right;\n",
       "    }\n",
       "</style>\n",
       "<table border=\"1\" class=\"dataframe\">\n",
       "  <thead>\n",
       "    <tr style=\"text-align: right;\">\n",
       "      <th></th>\n",
       "      <th>fixed acidity</th>\n",
       "      <th>volatile acidity</th>\n",
       "      <th>citric acid</th>\n",
       "      <th>residual sugar</th>\n",
       "      <th>chlorides</th>\n",
       "      <th>free sulfur dioxide</th>\n",
       "      <th>total sulfur dioxide</th>\n",
       "      <th>density</th>\n",
       "      <th>pH</th>\n",
       "      <th>sulphates</th>\n",
       "      <th>alcohol</th>\n",
       "    </tr>\n",
       "  </thead>\n",
       "  <tbody>\n",
       "    <tr>\n",
       "      <th>0</th>\n",
       "      <td>7.4</td>\n",
       "      <td>0.70</td>\n",
       "      <td>0.00</td>\n",
       "      <td>1.9</td>\n",
       "      <td>0.076</td>\n",
       "      <td>11.0</td>\n",
       "      <td>34.0</td>\n",
       "      <td>0.9978</td>\n",
       "      <td>3.51</td>\n",
       "      <td>0.56</td>\n",
       "      <td>9.4</td>\n",
       "    </tr>\n",
       "    <tr>\n",
       "      <th>1</th>\n",
       "      <td>7.8</td>\n",
       "      <td>0.88</td>\n",
       "      <td>0.00</td>\n",
       "      <td>2.6</td>\n",
       "      <td>0.098</td>\n",
       "      <td>25.0</td>\n",
       "      <td>67.0</td>\n",
       "      <td>0.9968</td>\n",
       "      <td>3.20</td>\n",
       "      <td>0.68</td>\n",
       "      <td>9.8</td>\n",
       "    </tr>\n",
       "    <tr>\n",
       "      <th>2</th>\n",
       "      <td>7.8</td>\n",
       "      <td>0.76</td>\n",
       "      <td>0.04</td>\n",
       "      <td>2.3</td>\n",
       "      <td>0.092</td>\n",
       "      <td>15.0</td>\n",
       "      <td>54.0</td>\n",
       "      <td>0.9970</td>\n",
       "      <td>3.26</td>\n",
       "      <td>0.65</td>\n",
       "      <td>9.8</td>\n",
       "    </tr>\n",
       "    <tr>\n",
       "      <th>3</th>\n",
       "      <td>11.2</td>\n",
       "      <td>0.28</td>\n",
       "      <td>0.56</td>\n",
       "      <td>1.9</td>\n",
       "      <td>0.075</td>\n",
       "      <td>17.0</td>\n",
       "      <td>60.0</td>\n",
       "      <td>0.9980</td>\n",
       "      <td>3.16</td>\n",
       "      <td>0.58</td>\n",
       "      <td>9.8</td>\n",
       "    </tr>\n",
       "    <tr>\n",
       "      <th>4</th>\n",
       "      <td>7.4</td>\n",
       "      <td>0.70</td>\n",
       "      <td>0.00</td>\n",
       "      <td>1.9</td>\n",
       "      <td>0.076</td>\n",
       "      <td>11.0</td>\n",
       "      <td>34.0</td>\n",
       "      <td>0.9978</td>\n",
       "      <td>3.51</td>\n",
       "      <td>0.56</td>\n",
       "      <td>9.4</td>\n",
       "    </tr>\n",
       "  </tbody>\n",
       "</table>\n",
       "</div>"
      ],
      "text/plain": [
       "   fixed acidity  volatile acidity  citric acid  residual sugar  chlorides  \\\n",
       "0            7.4              0.70         0.00             1.9      0.076   \n",
       "1            7.8              0.88         0.00             2.6      0.098   \n",
       "2            7.8              0.76         0.04             2.3      0.092   \n",
       "3           11.2              0.28         0.56             1.9      0.075   \n",
       "4            7.4              0.70         0.00             1.9      0.076   \n",
       "\n",
       "   free sulfur dioxide  total sulfur dioxide  density    pH  sulphates  \\\n",
       "0                 11.0                  34.0   0.9978  3.51       0.56   \n",
       "1                 25.0                  67.0   0.9968  3.20       0.68   \n",
       "2                 15.0                  54.0   0.9970  3.26       0.65   \n",
       "3                 17.0                  60.0   0.9980  3.16       0.58   \n",
       "4                 11.0                  34.0   0.9978  3.51       0.56   \n",
       "\n",
       "   alcohol  \n",
       "0      9.4  \n",
       "1      9.8  \n",
       "2      9.8  \n",
       "3      9.8  \n",
       "4      9.4  "
      ]
     },
     "execution_count": 4,
     "metadata": {},
     "output_type": "execute_result"
    }
   ],
   "source": [
    "wine_data = pd.DataFrame(wine.iloc[:,:-1])\n",
    "wine_data.head()"
   ]
  },
  {
   "cell_type": "code",
   "execution_count": 5,
   "metadata": {},
   "outputs": [
    {
     "data": {
      "text/html": [
       "<div>\n",
       "<style scoped>\n",
       "    .dataframe tbody tr th:only-of-type {\n",
       "        vertical-align: middle;\n",
       "    }\n",
       "\n",
       "    .dataframe tbody tr th {\n",
       "        vertical-align: top;\n",
       "    }\n",
       "\n",
       "    .dataframe thead th {\n",
       "        text-align: right;\n",
       "    }\n",
       "</style>\n",
       "<table border=\"1\" class=\"dataframe\">\n",
       "  <thead>\n",
       "    <tr style=\"text-align: right;\">\n",
       "      <th></th>\n",
       "      <th>quality</th>\n",
       "    </tr>\n",
       "  </thead>\n",
       "  <tbody>\n",
       "    <tr>\n",
       "      <th>0</th>\n",
       "      <td>5</td>\n",
       "    </tr>\n",
       "    <tr>\n",
       "      <th>1</th>\n",
       "      <td>5</td>\n",
       "    </tr>\n",
       "    <tr>\n",
       "      <th>2</th>\n",
       "      <td>5</td>\n",
       "    </tr>\n",
       "    <tr>\n",
       "      <th>3</th>\n",
       "      <td>6</td>\n",
       "    </tr>\n",
       "    <tr>\n",
       "      <th>4</th>\n",
       "      <td>5</td>\n",
       "    </tr>\n",
       "  </tbody>\n",
       "</table>\n",
       "</div>"
      ],
      "text/plain": [
       "   quality\n",
       "0        5\n",
       "1        5\n",
       "2        5\n",
       "3        6\n",
       "4        5"
      ]
     },
     "execution_count": 5,
     "metadata": {},
     "output_type": "execute_result"
    }
   ],
   "source": [
    "wine_quality = pd.DataFrame(wine.iloc[:,-1])\n",
    "wine_quality.head()"
   ]
  },
  {
   "cell_type": "code",
   "execution_count": 6,
   "metadata": {},
   "outputs": [
    {
     "data": {
      "text/plain": [
       "array([[0.02177213, 0.03140851, 0.        , 0.01636286, 0.01913637,\n",
       "        0.014471  , 0.01493608, 0.0250342 , 0.02648119, 0.02060638,\n",
       "        0.02243649],\n",
       "       [0.022949  , 0.03948498, 0.        , 0.02239128, 0.02467584,\n",
       "        0.03288864, 0.02943286, 0.02500911, 0.0241424 , 0.02502204,\n",
       "        0.02339123],\n",
       "       [0.022949  , 0.03410067, 0.0029977 , 0.01980767, 0.02316507,\n",
       "        0.01973319, 0.023722  , 0.02501413, 0.02459507, 0.02391812,\n",
       "        0.02339123],\n",
       "       [0.03295241, 0.0125634 , 0.04196775, 0.01636286, 0.01888457,\n",
       "        0.02236428, 0.02635778, 0.02503922, 0.02384062, 0.02134233,\n",
       "        0.02339123],\n",
       "       [0.02177213, 0.03140851, 0.        , 0.01636286, 0.01913637,\n",
       "        0.014471  , 0.01493608, 0.0250342 , 0.02648119, 0.02060638,\n",
       "        0.02243649]])"
      ]
     },
     "execution_count": 6,
     "metadata": {},
     "output_type": "execute_result"
    }
   ],
   "source": [
    "wine_data_n = preprocessing.normalize(wine_data.values, axis = 0)\n",
    "wine_data_n[:5]"
   ]
  },
  {
   "cell_type": "code",
   "execution_count": 7,
   "metadata": {},
   "outputs": [],
   "source": [
    "wine_data_n_train,wine_data_n_test,wine_quality_train,wine_quality_test=model_selection.train_test_split(wine_data_n,wine_quality,\n",
    "                                                                                                         test_size=0.1)"
   ]
  },
  {
   "cell_type": "code",
   "execution_count": 8,
   "metadata": {},
   "outputs": [
    {
     "data": {
      "text/plain": [
       "array([[0., 0., 0., 0., 0., 1., 0., 0., 0.],\n",
       "       [0., 0., 0., 0., 0., 1., 0., 0., 0.],\n",
       "       [0., 0., 0., 0., 0., 0., 1., 0., 0.],\n",
       "       [0., 0., 0., 0., 0., 0., 1., 0., 0.],\n",
       "       [0., 0., 0., 0., 0., 0., 1., 0., 0.]], dtype=float32)"
      ]
     },
     "execution_count": 8,
     "metadata": {},
     "output_type": "execute_result"
    }
   ],
   "source": [
    "wine_quality_train_oh=to_categorical(wine_quality_train)\n",
    "wine_quality_train_oh[:5]"
   ]
  },
  {
   "cell_type": "code",
   "execution_count": 9,
   "metadata": {},
   "outputs": [
    {
     "data": {
      "text/plain": [
       "array([[0., 0., 0., 0., 0., 0., 1., 0., 0.],\n",
       "       [0., 0., 0., 0., 0., 0., 0., 1., 0.],\n",
       "       [0., 0., 0., 0., 0., 1., 0., 0., 0.],\n",
       "       [0., 0., 0., 0., 0., 1., 0., 0., 0.],\n",
       "       [0., 0., 0., 0., 0., 1., 0., 0., 0.]], dtype=float32)"
      ]
     },
     "execution_count": 9,
     "metadata": {},
     "output_type": "execute_result"
    }
   ],
   "source": [
    "wine_quality_test_oh=to_categorical(wine_quality_test)\n",
    "wine_quality_test_oh[:5]"
   ]
  },
  {
   "cell_type": "code",
   "execution_count": 10,
   "metadata": {},
   "outputs": [
    {
     "name": "stdout",
     "output_type": "stream",
     "text": [
      "Model: \"sequential\"\n",
      "_________________________________________________________________\n",
      "Layer (type)                 Output Shape              Param #   \n",
      "=================================================================\n",
      "flatten (Flatten)            (None, 11)                0         \n",
      "_________________________________________________________________\n",
      "dense (Dense)                (None, 100)               1200      \n",
      "_________________________________________________________________\n",
      "dense_1 (Dense)              (None, 9)                 909       \n",
      "=================================================================\n",
      "Total params: 2,109\n",
      "Trainable params: 2,109\n",
      "Non-trainable params: 0\n",
      "_________________________________________________________________\n"
     ]
    }
   ],
   "source": [
    "model=keras.models.Sequential()\n",
    "model.add(keras.layers.Flatten(input_shape=(11,)))\n",
    "model.add(keras.layers.Dense(units=100,activation='relu'))\n",
    "model.add(keras.layers.Dense(units=9,activation='softmax'))\n",
    "\n",
    "model.summary()"
   ]
  },
  {
   "cell_type": "code",
   "execution_count": 11,
   "metadata": {},
   "outputs": [],
   "source": [
    "model.compile(loss='categorical_crossentropy', optimizer='adam',metrics='accuracy')"
   ]
  },
  {
   "cell_type": "code",
   "execution_count": 12,
   "metadata": {},
   "outputs": [
    {
     "name": "stdout",
     "output_type": "stream",
     "text": [
      "Epoch 1/30\n",
      "1439/1439 [==============================] - 2s 869us/step - loss: 1.4789 - accuracy: 0.3933 - val_loss: 1.1381 - val_accuracy: 0.4375\n",
      "Epoch 2/30\n",
      "1439/1439 [==============================] - 1s 497us/step - loss: 1.1946 - accuracy: 0.4018 - val_loss: 1.1298 - val_accuracy: 0.4375\n",
      "Epoch 3/30\n",
      "1439/1439 [==============================] - 1s 534us/step - loss: 1.1889 - accuracy: 0.4559 - val_loss: 1.1194 - val_accuracy: 0.5375\n",
      "Epoch 4/30\n",
      "1439/1439 [==============================] - 1s 537us/step - loss: 1.2014 - accuracy: 0.4691 - val_loss: 1.1006 - val_accuracy: 0.4500\n",
      "Epoch 5/30\n",
      "1439/1439 [==============================] - 1s 556us/step - loss: 1.2014 - accuracy: 0.4446 - val_loss: 1.1088 - val_accuracy: 0.4437\n",
      "Epoch 6/30\n",
      "1439/1439 [==============================] - 1s 499us/step - loss: 1.1834 - accuracy: 0.4710 - val_loss: 1.0824 - val_accuracy: 0.5125\n",
      "Epoch 7/30\n",
      "1439/1439 [==============================] - 1s 501us/step - loss: 1.1579 - accuracy: 0.4950 - val_loss: 1.0458 - val_accuracy: 0.5625\n",
      "Epoch 8/30\n",
      "1439/1439 [==============================] - 1s 504us/step - loss: 1.1332 - accuracy: 0.5173 - val_loss: 1.0412 - val_accuracy: 0.5312\n",
      "Epoch 9/30\n",
      "1439/1439 [==============================] - 1s 570us/step - loss: 1.1212 - accuracy: 0.4989 - val_loss: 1.0189 - val_accuracy: 0.5875\n",
      "Epoch 10/30\n",
      "1439/1439 [==============================] - 1s 543us/step - loss: 1.1024 - accuracy: 0.4932 - val_loss: 1.0196 - val_accuracy: 0.5500\n",
      "Epoch 11/30\n",
      "1439/1439 [==============================] - 1s 509us/step - loss: 1.1136 - accuracy: 0.4881 - val_loss: 1.0176 - val_accuracy: 0.5562\n",
      "Epoch 12/30\n",
      "1439/1439 [==============================] - 1s 503us/step - loss: 1.0895 - accuracy: 0.5355 - val_loss: 0.9963 - val_accuracy: 0.5813\n",
      "Epoch 13/30\n",
      "1439/1439 [==============================] - 1s 502us/step - loss: 1.0574 - accuracy: 0.5123 - val_loss: 0.9902 - val_accuracy: 0.5938\n",
      "Epoch 14/30\n",
      "1439/1439 [==============================] - 1s 503us/step - loss: 1.0727 - accuracy: 0.5268 - val_loss: 0.9859 - val_accuracy: 0.5688\n",
      "Epoch 15/30\n",
      "1439/1439 [==============================] - 1s 528us/step - loss: 1.0657 - accuracy: 0.5335 - val_loss: 0.9754 - val_accuracy: 0.5938\n",
      "Epoch 16/30\n",
      "1439/1439 [==============================] - 1s 511us/step - loss: 1.0665 - accuracy: 0.5254 - val_loss: 0.9664 - val_accuracy: 0.5938\n",
      "Epoch 17/30\n",
      "1439/1439 [==============================] - 1s 508us/step - loss: 1.0803 - accuracy: 0.5426 - val_loss: 0.9634 - val_accuracy: 0.5875\n",
      "Epoch 18/30\n",
      "1439/1439 [==============================] - 1s 534us/step - loss: 1.0310 - accuracy: 0.5442 - val_loss: 0.9534 - val_accuracy: 0.6000\n",
      "Epoch 19/30\n",
      "1439/1439 [==============================] - 1s 518us/step - loss: 1.0474 - accuracy: 0.5385 - val_loss: 0.9494 - val_accuracy: 0.5750\n",
      "Epoch 20/30\n",
      "1439/1439 [==============================] - 1s 541us/step - loss: 1.0703 - accuracy: 0.5385 - val_loss: 0.9478 - val_accuracy: 0.5875\n",
      "Epoch 21/30\n",
      "1439/1439 [==============================] - 1s 538us/step - loss: 1.0528 - accuracy: 0.5119 - val_loss: 0.9403 - val_accuracy: 0.5813\n",
      "Epoch 22/30\n",
      "1439/1439 [==============================] - 1s 535us/step - loss: 1.0611 - accuracy: 0.5486 - val_loss: 0.9360 - val_accuracy: 0.5938\n",
      "Epoch 23/30\n",
      "1439/1439 [==============================] - 1s 532us/step - loss: 1.0181 - accuracy: 0.5396 - val_loss: 0.9644 - val_accuracy: 0.6062\n",
      "Epoch 24/30\n",
      "1439/1439 [==============================] - 1s 557us/step - loss: 1.0344 - accuracy: 0.5449 - val_loss: 0.9613 - val_accuracy: 0.5562\n",
      "Epoch 25/30\n",
      "1439/1439 [==============================] - 1s 538us/step - loss: 1.0728 - accuracy: 0.5217 - val_loss: 0.9305 - val_accuracy: 0.6000\n",
      "Epoch 26/30\n",
      "1439/1439 [==============================] - 1s 562us/step - loss: 1.0258 - accuracy: 0.5409 - val_loss: 0.9287 - val_accuracy: 0.5625\n",
      "Epoch 27/30\n",
      "1439/1439 [==============================] - 1s 553us/step - loss: 1.0203 - accuracy: 0.5447 - val_loss: 0.9524 - val_accuracy: 0.6000\n",
      "Epoch 28/30\n",
      "1439/1439 [==============================] - 1s 537us/step - loss: 1.0412 - accuracy: 0.5455 - val_loss: 0.9204 - val_accuracy: 0.6000\n",
      "Epoch 29/30\n",
      "1439/1439 [==============================] - 1s 540us/step - loss: 1.0210 - accuracy: 0.5379 - val_loss: 0.9309 - val_accuracy: 0.5938\n",
      "Epoch 30/30\n",
      "1439/1439 [==============================] - 1s 527us/step - loss: 1.0432 - accuracy: 0.5631 - val_loss: 0.9231 - val_accuracy: 0.6062\n"
     ]
    }
   ],
   "source": [
    "model_train=model.fit(wine_data_n_train,wine_quality_train_oh,epochs=30,batch_size=1,\n",
    "                      validation_data=(wine_data_n_test,wine_quality_test_oh))"
   ]
  },
  {
   "cell_type": "code",
   "execution_count": 13,
   "metadata": {
    "scrolled": true
   },
   "outputs": [
    {
     "data": {
      "image/png": "[encoded data removed]",
      "text/plain": [
       "<Figure size 720x360 with 2 Axes>"
      ]
     },
     "metadata": {
      "needs_background": "light"
     },
     "output_type": "display_data"
    }
   ],
   "source": [
    "plt.figure(figsize=(10,5))\n",
    "ax1=plt.subplot(1,2,1)\n",
    "train_loss=model_train.history['loss']\n",
    "train_val_loss=model_train.history['val_loss']\n",
    "train_epochs=range(1,len(train_loss)+1)\n",
    "ax1.plot(train_epochs,train_loss,label='Training Loss')\n",
    "ax1.plot(train_epochs,train_val_loss,label='Validation Loss')\n",
    "plt.xlabel('Epoches')\n",
    "plt.ylabel('Loss')\n",
    "plt.legend()\n",
    "\n",
    "ax2=plt.subplot(1,2,2)\n",
    "train_acc=model_train.history['accuracy']\n",
    "train_val_acc=model_train.history['val_accuracy']\n",
    "train_epochs=range(1,len(train_loss)+1)\n",
    "ax2.plot(train_epochs,train_acc,label='Training Accuracy')\n",
    "ax2.plot(train_epochs,train_val_acc,label='Validation Accuracy')\n",
    "plt.xlabel('Epoches')\n",
    "plt.ylabel('Accuracy')\n",
    "plt.legend()\n",
    "plt.show()"
   ]
  },
  {
   "cell_type": "code",
   "execution_count": 15,
   "metadata": {},
   "outputs": [
    {
     "data": {
      "text/html": [
       "<div>\n",
       "<style scoped>\n",
       "    .dataframe tbody tr th:only-of-type {\n",
       "        vertical-align: middle;\n",
       "    }\n",
       "\n",
       "    .dataframe tbody tr th {\n",
       "        vertical-align: top;\n",
       "    }\n",
       "\n",
       "    .dataframe thead th {\n",
       "        text-align: right;\n",
       "    }\n",
       "</style>\n",
       "<table border=\"1\" class=\"dataframe\">\n",
       "  <thead>\n",
       "    <tr style=\"text-align: right;\">\n",
       "      <th>預測數字</th>\n",
       "      <th>5</th>\n",
       "      <th>6</th>\n",
       "      <th>7</th>\n",
       "    </tr>\n",
       "    <tr>\n",
       "      <th>真實數字</th>\n",
       "      <th></th>\n",
       "      <th></th>\n",
       "      <th></th>\n",
       "    </tr>\n",
       "  </thead>\n",
       "  <tbody>\n",
       "    <tr>\n",
       "      <th>4</th>\n",
       "      <td>3</td>\n",
       "      <td>1</td>\n",
       "      <td>0</td>\n",
       "    </tr>\n",
       "    <tr>\n",
       "      <th>5</th>\n",
       "      <td>60</td>\n",
       "      <td>10</td>\n",
       "      <td>0</td>\n",
       "    </tr>\n",
       "    <tr>\n",
       "      <th>6</th>\n",
       "      <td>23</td>\n",
       "      <td>37</td>\n",
       "      <td>4</td>\n",
       "    </tr>\n",
       "    <tr>\n",
       "      <th>7</th>\n",
       "      <td>1</td>\n",
       "      <td>19</td>\n",
       "      <td>0</td>\n",
       "    </tr>\n",
       "    <tr>\n",
       "      <th>8</th>\n",
       "      <td>0</td>\n",
       "      <td>2</td>\n",
       "      <td>0</td>\n",
       "    </tr>\n",
       "  </tbody>\n",
       "</table>\n",
       "</div>"
      ],
      "text/plain": [
       "預測數字   5   6  7\n",
       "真實數字           \n",
       "4      3   1  0\n",
       "5     60  10  0\n",
       "6     23  37  4\n",
       "7      1  19  0\n",
       "8      0   2  0"
      ]
     },
     "execution_count": 15,
     "metadata": {},
     "output_type": "execute_result"
    }
   ],
   "source": [
    "model_pred = np.argmax(model.predict(wine_data_n_test),axis=-1) \n",
    "pd.crosstab(wine_quality_test.values.reshape(-1),model_pred, rownames=['真實數字'], colnames=['預測數字'])"
   ]
  },
  {
   "cell_type": "code",
   "execution_count": 16,
   "metadata": {},
   "outputs": [
    {
     "name": "stdout",
     "output_type": "stream",
     "text": [
      "Model: \"sequential_1\"\n",
      "_________________________________________________________________\n",
      "Layer (type)                 Output Shape              Param #   \n",
      "=================================================================\n",
      "flatten_1 (Flatten)          (None, 11)                0         \n",
      "_________________________________________________________________\n",
      "dense_2 (Dense)              (None, 100)               1200      \n",
      "_________________________________________________________________\n",
      "dense_3 (Dense)              (None, 100)               10100     \n",
      "_________________________________________________________________\n",
      "dense_4 (Dense)              (None, 9)                 909       \n",
      "=================================================================\n",
      "Total params: 12,209\n",
      "Trainable params: 12,209\n",
      "Non-trainable params: 0\n",
      "_________________________________________________________________\n"
     ]
    }
   ],
   "source": [
    "model=keras.models.Sequential()\n",
    "model.add(keras.layers.Flatten(input_shape=(11,)))\n",
    "model.add(keras.layers.Dense(units=100,activation='relu'))\n",
    "model.add(keras.layers.Dense(units=100,activation='relu'))\n",
    "model.add(keras.layers.Dense(units=9,activation='softmax'))\n",
    "\n",
    "model.summary()"
   ]
  },
  {
   "cell_type": "code",
   "execution_count": 17,
   "metadata": {},
   "outputs": [
    {
     "name": "stdout",
     "output_type": "stream",
     "text": [
      "Epoch 1/30\n",
      "1439/1439 [==============================] - 1s 785us/step - loss: 1.3783 - accuracy: 0.4040 - val_loss: 1.1440 - val_accuracy: 0.4375\n",
      "Epoch 2/30\n",
      "1439/1439 [==============================] - 1s 685us/step - loss: 1.2067 - accuracy: 0.4028 - val_loss: 1.1463 - val_accuracy: 0.4000\n",
      "Epoch 3/30\n",
      "1439/1439 [==============================] - 1s 672us/step - loss: 1.2218 - accuracy: 0.4370 - val_loss: 1.1026 - val_accuracy: 0.5625\n",
      "Epoch 4/30\n",
      "1439/1439 [==============================] - 1s 674us/step - loss: 1.1294 - accuracy: 0.4734 - val_loss: 1.0514 - val_accuracy: 0.5688\n",
      "Epoch 5/30\n",
      "1439/1439 [==============================] - 1s 669us/step - loss: 1.1444 - accuracy: 0.4963 - val_loss: 1.0402 - val_accuracy: 0.5375\n",
      "Epoch 6/30\n",
      "1439/1439 [==============================] - 1s 667us/step - loss: 1.1186 - accuracy: 0.4896 - val_loss: 1.0298 - val_accuracy: 0.5500\n",
      "Epoch 7/30\n",
      "1439/1439 [==============================] - 1s 684us/step - loss: 1.0951 - accuracy: 0.5134 - val_loss: 0.9971 - val_accuracy: 0.5688\n",
      "Epoch 8/30\n",
      "1439/1439 [==============================] - 1s 687us/step - loss: 1.0962 - accuracy: 0.5209 - val_loss: 0.9600 - val_accuracy: 0.5938\n",
      "Epoch 9/30\n",
      "1439/1439 [==============================] - 1s 683us/step - loss: 1.0597 - accuracy: 0.5621 - val_loss: 0.9719 - val_accuracy: 0.5750\n",
      "Epoch 10/30\n",
      "1439/1439 [==============================] - 1s 675us/step - loss: 1.0279 - accuracy: 0.5517 - val_loss: 0.9541 - val_accuracy: 0.5938\n",
      "Epoch 11/30\n",
      "1439/1439 [==============================] - 1s 672us/step - loss: 1.0568 - accuracy: 0.5154 - val_loss: 0.9569 - val_accuracy: 0.6125\n",
      "Epoch 12/30\n",
      "1439/1439 [==============================] - 1s 673us/step - loss: 1.0397 - accuracy: 0.5376 - val_loss: 0.9506 - val_accuracy: 0.5938\n",
      "Epoch 13/30\n",
      "1439/1439 [==============================] - 1s 677us/step - loss: 1.0252 - accuracy: 0.5572 - val_loss: 0.9316 - val_accuracy: 0.5875\n",
      "Epoch 14/30\n",
      "1439/1439 [==============================] - 1s 670us/step - loss: 1.0461 - accuracy: 0.5562 - val_loss: 0.9919 - val_accuracy: 0.5437\n",
      "Epoch 15/30\n",
      "1439/1439 [==============================] - 1s 678us/step - loss: 1.0198 - accuracy: 0.5495 - val_loss: 0.9507 - val_accuracy: 0.5688\n",
      "Epoch 16/30\n",
      "1439/1439 [==============================] - 1s 678us/step - loss: 1.0606 - accuracy: 0.5455 - val_loss: 0.9080 - val_accuracy: 0.5813\n",
      "Epoch 17/30\n",
      "1439/1439 [==============================] - 1s 671us/step - loss: 1.0085 - accuracy: 0.5453 - val_loss: 0.9246 - val_accuracy: 0.6062\n",
      "Epoch 18/30\n",
      "1439/1439 [==============================] - 1s 675us/step - loss: 1.0369 - accuracy: 0.5274 - val_loss: 0.9378 - val_accuracy: 0.6062\n",
      "Epoch 19/30\n",
      "1439/1439 [==============================] - 1s 676us/step - loss: 0.9973 - accuracy: 0.5598 - val_loss: 0.9084 - val_accuracy: 0.6187\n",
      "Epoch 20/30\n",
      "1439/1439 [==============================] - 1s 699us/step - loss: 1.0096 - accuracy: 0.5528 - val_loss: 0.9204 - val_accuracy: 0.5938\n",
      "Epoch 21/30\n",
      "1439/1439 [==============================] - 1s 672us/step - loss: 1.0218 - accuracy: 0.5438 - val_loss: 0.8931 - val_accuracy: 0.6000\n",
      "Epoch 22/30\n",
      "1439/1439 [==============================] - 1s 663us/step - loss: 1.0058 - accuracy: 0.5522 - val_loss: 0.9311 - val_accuracy: 0.6000\n",
      "Epoch 23/30\n",
      "1439/1439 [==============================] - 1s 599us/step - loss: 0.9887 - accuracy: 0.5707 - val_loss: 0.8867 - val_accuracy: 0.5938\n",
      "Epoch 24/30\n",
      "1439/1439 [==============================] - 1s 671us/step - loss: 0.9760 - accuracy: 0.5587 - val_loss: 0.9191 - val_accuracy: 0.6062\n",
      "Epoch 25/30\n",
      "1439/1439 [==============================] - 1s 645us/step - loss: 0.9637 - accuracy: 0.5708 - val_loss: 0.9538 - val_accuracy: 0.5375\n",
      "Epoch 26/30\n",
      "1439/1439 [==============================] - 1s 668us/step - loss: 0.9620 - accuracy: 0.5815 - val_loss: 0.9226 - val_accuracy: 0.6000\n",
      "Epoch 27/30\n",
      "1439/1439 [==============================] - 1s 655us/step - loss: 0.9894 - accuracy: 0.5595 - val_loss: 0.8975 - val_accuracy: 0.6375\n",
      "Epoch 28/30\n",
      "1439/1439 [==============================] - 1s 678us/step - loss: 0.9826 - accuracy: 0.5661 - val_loss: 0.8953 - val_accuracy: 0.6313\n",
      "Epoch 29/30\n",
      "1439/1439 [==============================] - 1s 652us/step - loss: 0.9995 - accuracy: 0.5635 - val_loss: 0.8904 - val_accuracy: 0.6313\n",
      "Epoch 30/30\n",
      "1439/1439 [==============================] - 1s 643us/step - loss: 0.9694 - accuracy: 0.5887 - val_loss: 0.8943 - val_accuracy: 0.6125\n"
     ]
    }
   ],
   "source": [
    "model.compile(loss='categorical_crossentropy', optimizer='adam',metrics='accuracy')\n",
    "model_train=model.fit(wine_data_n_train,wine_quality_train_oh,epochs=30,batch_size=1,\n",
    "                      validation_data=(wine_data_n_test,wine_quality_test_oh))"
   ]
  },
  {
   "cell_type": "code",
   "execution_count": 18,
   "metadata": {},
   "outputs": [
    {
     "data": {
      "image/png": "[encoded data removed]",
      "text/plain": [
       "<Figure size 720x360 with 2 Axes>"
      ]
     },
     "metadata": {
      "needs_background": "light"
     },
     "output_type": "display_data"
    }
   ],
   "source": [
    "plt.figure(figsize=(10,5))\n",
    "ax1=plt.subplot(1,2,1)\n",
    "train_loss=model_train.history['loss']\n",
    "train_val_loss=model_train.history['val_loss']\n",
    "train_epochs=range(1,len(train_loss)+1)\n",
    "ax1.plot(train_epochs,train_loss,label='Training Loss')\n",
    "ax1.plot(train_epochs,train_val_loss,label='Validation Loss')\n",
    "plt.xlabel('Epoches')\n",
    "plt.ylabel('Loss')\n",
    "plt.legend()\n",
    "\n",
    "ax2=plt.subplot(1,2,2)\n",
    "train_acc=model_train.history['accuracy']\n",
    "train_val_acc=model_train.history['val_accuracy']\n",
    "train_epochs=range(1,len(train_loss)+1)\n",
    "ax2.plot(train_epochs,train_acc,label='Training Accuracy')\n",
    "ax2.plot(train_epochs,train_val_acc,label='Validation Accuracy')\n",
    "plt.xlabel('Epoches')\n",
    "plt.ylabel('Accuracy')\n",
    "plt.legend()\n",
    "plt.model_pred = np.argmax(model.predict(wine_data_n_test),axis=-1) \n",
    "pd.crosstab(wine_quality_test.values.reshape(-1),model_pred, rownames=['真實數字'], colnames=['預測數字'])show()"
   ]
  },
  {
   "cell_type": "code",
   "execution_count": 19,
   "metadata": {},
   "outputs": [
    {
     "data": {
      "text/html": [
       "<div>\n",
       "<style scoped>\n",
       "    .dataframe tbody tr th:only-of-type {\n",
       "        vertical-align: middle;\n",
       "    }\n",
       "\n",
       "    .dataframe tbody tr th {\n",
       "        vertical-align: top;\n",
       "    }\n",
       "\n",
       "    .dataframe thead th {\n",
       "        text-align: right;\n",
       "    }\n",
       "</style>\n",
       "<table border=\"1\" class=\"dataframe\">\n",
       "  <thead>\n",
       "    <tr style=\"text-align: right;\">\n",
       "      <th>預測數字</th>\n",
       "      <th>5</th>\n",
       "      <th>6</th>\n",
       "      <th>7</th>\n",
       "    </tr>\n",
       "    <tr>\n",
       "      <th>真實數字</th>\n",
       "      <th></th>\n",
       "      <th></th>\n",
       "      <th></th>\n",
       "    </tr>\n",
       "  </thead>\n",
       "  <tbody>\n",
       "    <tr>\n",
       "      <th>4</th>\n",
       "      <td>3</td>\n",
       "      <td>1</td>\n",
       "      <td>0</td>\n",
       "    </tr>\n",
       "    <tr>\n",
       "      <th>5</th>\n",
       "      <td>54</td>\n",
       "      <td>15</td>\n",
       "      <td>1</td>\n",
       "    </tr>\n",
       "    <tr>\n",
       "      <th>6</th>\n",
       "      <td>15</td>\n",
       "      <td>40</td>\n",
       "      <td>9</td>\n",
       "    </tr>\n",
       "    <tr>\n",
       "      <th>7</th>\n",
       "      <td>1</td>\n",
       "      <td>15</td>\n",
       "      <td>4</td>\n",
       "    </tr>\n",
       "    <tr>\n",
       "      <th>8</th>\n",
       "      <td>0</td>\n",
       "      <td>2</td>\n",
       "      <td>0</td>\n",
       "    </tr>\n",
       "  </tbody>\n",
       "</table>\n",
       "</div>"
      ],
      "text/plain": [
       "預測數字   5   6  7\n",
       "真實數字           \n",
       "4      3   1  0\n",
       "5     54  15  1\n",
       "6     15  40  9\n",
       "7      1  15  4\n",
       "8      0   2  0"
      ]
     },
     "execution_count": 19,
     "metadata": {},
     "output_type": "execute_result"
    }
   ],
   "source": [
    "model_pred = np.argmax(model.predict(wine_data_n_test),axis=-1) \n",
    "pd.crosstab(wine_quality_test.values.reshape(-1),model_pred, rownames=['真實數字'], colnames=['預測數字'])"
   ]
  },
  {
   "cell_type": "code",
   "execution_count": null,
   "metadata": {},
   "outputs": [],
   "source": []
  }
 ],
 "metadata": {
  "kernelspec": {
   "display_name": "Python 3",
   "language": "python",
   "name": "python3"
  },
  "language_info": {
   "codemirror_mode": {
    "name": "ipython",
    "version": 3
   },
   "file_extension": ".py",
   "mimetype": "text/x-python",
   "name": "python",
   "nbconvert_exporter": "python",
   "pygments_lexer": "ipython3",
   "version": "3.8.5"
  }
 },
 "nbformat": 4,
 "nbformat_minor": 4
}
