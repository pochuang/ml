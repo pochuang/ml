{
 "cells": [
  {
   "cell_type": "code",
   "execution_count": 1,
   "metadata": {},
   "outputs": [],
   "source": [
    "import numpy as np\n",
    "from sklearn.linear_model import LogisticRegression\n",
    "studyH = [0.5,0.75,1.0,1.25,1.5,1.75,1.75,2.0,2.25,2.5,2.75,3.0,3.25,3.5,4.0,4.25,4.5,4.75,5.0,5.5]\n",
    "passR = [0,0,0,0,0,0,1,0,1,0,1,0,1,0,1,1,1,1,1,1]\n",
    "X = np.array(studyH).reshape(-1,1) #因為使用scikit-learn要求X必須為2維陣列,所以需要先將list轉換為ndarray,其維度為2\n",
    "y = np.array(passR).reshape(-1,)   #將list轉換為ndarray,其維度為1\n",
    "model = LogisticRegression(C=1000000.) #C是Inverse of regularization strength,越大表示模型要越擬合訓練資料,意含overfit可能性會增加"
   ]
  },
  {
   "cell_type": "code",
   "execution_count": 2,
   "metadata": {},
   "outputs": [
    {
     "data": {
      "text/plain": [
       "(20, 1)"
      ]
     },
     "execution_count": 2,
     "metadata": {},
     "output_type": "execute_result"
    }
   ],
   "source": [
    "X.shape"
   ]
  },
  {
   "cell_type": "code",
   "execution_count": 3,
   "metadata": {},
   "outputs": [
    {
     "data": {
      "text/plain": [
       "(20,)"
      ]
     },
     "execution_count": 3,
     "metadata": {},
     "output_type": "execute_result"
    }
   ],
   "source": [
    "y.shape"
   ]
  },
  {
   "cell_type": "code",
   "execution_count": 4,
   "metadata": {},
   "outputs": [
    {
     "data": {
      "text/plain": [
       "array([0, 0, 0, 0, 0, 0, 1, 0, 1, 0, 1, 0, 1, 0, 1, 1, 1, 1, 1, 1])"
      ]
     },
     "execution_count": 4,
     "metadata": {},
     "output_type": "execute_result"
    }
   ],
   "source": [
    "y"
   ]
  },
  {
   "cell_type": "code",
   "execution_count": 5,
   "metadata": {},
   "outputs": [
    {
     "data": {
      "text/plain": [
       "array([0, 0, 0, 0, 0, 0, 0, 0, 0, 0, 1, 1, 1, 1, 1, 1, 1, 1, 1, 1])"
      ]
     },
     "execution_count": 5,
     "metadata": {},
     "output_type": "execute_result"
    }
   ],
   "source": [
    "model.fit(X,y)\n",
    "model.predict(X)"
   ]
  },
  {
   "cell_type": "code",
   "execution_count": 6,
   "metadata": {},
   "outputs": [
    {
     "data": {
      "text/plain": [
       "0.8"
      ]
     },
     "execution_count": 6,
     "metadata": {},
     "output_type": "execute_result"
    }
   ],
   "source": [
    "#將model.predict(X)的結果與y進行比較,計算出accuracy\n",
    "model.score(X,y) "
   ]
  },
  {
   "cell_type": "code",
   "execution_count": 7,
   "metadata": {},
   "outputs": [
    {
     "name": "stdout",
     "output_type": "stream",
     "text": [
      "coef [[1.50464059]]\n",
      "intercept [-4.07769916]\n",
      "max iteration [5]\n"
     ]
    }
   ],
   "source": [
    "print('coef', model.coef_)\n",
    "print('intercept', model.intercept_)\n",
    "print('max iteration',model.n_iter_)"
   ]
  },
  {
   "cell_type": "markdown",
   "metadata": {},
   "source": [
    "# y = 1.50464059*X + -4.07769916"
   ]
  },
  {
   "cell_type": "code",
   "execution_count": 8,
   "metadata": {},
   "outputs": [
    {
     "data": {
      "text/plain": [
       "array([0])"
      ]
     },
     "execution_count": 8,
     "metadata": {},
     "output_type": "execute_result"
    }
   ],
   "source": [
    "#model.predict(2)如果出現錯誤,應該是新版本的scikit-learn要求輸入的X必須是2維陣列\n",
    "#model.predict([[2]])\n",
    "model.predict(np.array([2]).reshape(-1,1))"
   ]
  },
  {
   "cell_type": "code",
   "execution_count": 9,
   "metadata": {},
   "outputs": [
    {
     "data": {
      "text/plain": [
       "array([[0.74429594, 0.25570406]])"
      ]
     },
     "execution_count": 9,
     "metadata": {},
     "output_type": "execute_result"
    }
   ],
   "source": [
    "model.predict_proba(2)"
   ]
  },
  {
   "cell_type": "code",
   "execution_count": 10,
   "metadata": {},
   "outputs": [
    {
     "name": "stdout",
     "output_type": "stream",
     "text": [
      "y:-1.06841798\n"
     ]
    }
   ],
   "source": [
    "print('y:{}'.format(1.50464059*2 + -4.07769916))"
   ]
  },
  {
   "cell_type": "code",
   "execution_count": 11,
   "metadata": {},
   "outputs": [],
   "source": [
    "def sigmoid_h(h):    \n",
    "    p = -4.07769916+(1.50464059*h)    \n",
    "    return 1.0 / (1.0 + np.exp(-p))"
   ]
  },
  {
   "cell_type": "code",
   "execution_count": 12,
   "metadata": {},
   "outputs": [
    {
     "data": {
      "text/plain": [
       "0.255704057032568"
      ]
     },
     "execution_count": 12,
     "metadata": {},
     "output_type": "execute_result"
    }
   ],
   "source": [
    "sigmoid_h(2)"
   ]
  },
  {
   "cell_type": "markdown",
   "metadata": {},
   "source": [
    "# (0.2557 < 0.5) -> 0"
   ]
  },
  {
   "cell_type": "code",
   "execution_count": 13,
   "metadata": {},
   "outputs": [
    {
     "data": {
      "text/plain": [
       "array([1])"
      ]
     },
     "execution_count": 13,
     "metadata": {},
     "output_type": "execute_result"
    }
   ],
   "source": [
    "model.predict(3)"
   ]
  },
  {
   "cell_type": "code",
   "execution_count": 14,
   "metadata": {},
   "outputs": [
    {
     "data": {
      "text/plain": [
       "array([[0.39264142, 0.60735858]])"
      ]
     },
     "execution_count": 14,
     "metadata": {},
     "output_type": "execute_result"
    }
   ],
   "source": [
    "model.predict_proba(3)"
   ]
  },
  {
   "cell_type": "code",
   "execution_count": 15,
   "metadata": {},
   "outputs": [
    {
     "name": "stdout",
     "output_type": "stream",
     "text": [
      "0.43622260999999973\n"
     ]
    }
   ],
   "source": [
    "print(1.50464059*3 + -4.07769916)"
   ]
  },
  {
   "cell_type": "code",
   "execution_count": 16,
   "metadata": {},
   "outputs": [
    {
     "data": {
      "text/plain": [
       "0.6073585871706797"
      ]
     },
     "execution_count": 16,
     "metadata": {},
     "output_type": "execute_result"
    }
   ],
   "source": [
    "sigmoid_h(3)"
   ]
  },
  {
   "cell_type": "markdown",
   "metadata": {},
   "source": [
    "# (0.60736 >= 0.5) -> 1"
   ]
  },
  {
   "cell_type": "code",
   "execution_count": 17,
   "metadata": {},
   "outputs": [],
   "source": [
    "h = np.arange(-10,10,0.1)\n",
    "s_h = sigmoid_h(h)"
   ]
  },
  {
   "cell_type": "code",
   "execution_count": 18,
   "metadata": {},
   "outputs": [
    {
     "data": {
      "text/plain": [
       "<Figure size 640x480 with 1 Axes>"
      ]
     },
     "metadata": {},
     "output_type": "display_data"
    }
   ],
   "source": [
    "import matplotlib.pyplot as plt\n",
    "plt.plot(h,s_h)\n",
    "plt.axvline(0.0,color='k')\n",
    "plt.axhspan(0.0,1.0, facecolor='1.0', alpha=1.0, ls='dotted')\n",
    "plt.axhline(y=0.5, ls = 'dotted', color='k') \n",
    "plt.yticks([0.0, 0.5, 1.0]) \n",
    "plt.ylim(-0.1, 1.1) \n",
    "plt.xlabel('h')\n",
    "plt.ylabel('$S(h)$')\n",
    "\n",
    "plt.show()"
   ]
  },
  {
   "cell_type": "raw",
   "metadata": {},
   "source": [
    "下面範例為不同的C,所得到結果.請注意係數與截距"
   ]
  },
  {
   "cell_type": "code",
   "execution_count": 19,
   "metadata": {
    "scrolled": true
   },
   "outputs": [
    {
     "name": "stdout",
     "output_type": "stream",
     "text": [
      "[[1.19941739]] [-3.16923655]\n",
      "0 [0]\n",
      "1 [0]\n",
      "2 [0]\n",
      "3 [1]\n",
      "4 [1]\n"
     ]
    }
   ],
   "source": [
    "model_c10 = LogisticRegression(C=10.)    #c越大,在訓練階段所得的model越擬合訓練資料\n",
    "model_c10.fit(X,y)\n",
    "print(model_c10.coef_,model_c10.intercept_)\n",
    "for h in range(0,5):\n",
    "    print(h,model_c10.predict(h))"
   ]
  },
  {
   "cell_type": "code",
   "execution_count": 20,
   "metadata": {},
   "outputs": [
    {
     "name": "stdout",
     "output_type": "stream",
     "text": [
      "[[0.61126347]] [-1.36550178]\n",
      "0 [0]\n",
      "1 [0]\n",
      "2 [0]\n",
      "3 [1]\n",
      "4 [1]\n"
     ]
    }
   ],
   "source": [
    "model_c1 = LogisticRegression(C=1)\n",
    "model_c1.fit(X,y)\n",
    "print(model_c1.coef_,model_c1.intercept_)\n",
    "for h in range(0,5):\n",
    "    print(h,model_c1.predict(h))"
   ]
  },
  {
   "cell_type": "code",
   "execution_count": 21,
   "metadata": {},
   "outputs": [
    {
     "name": "stdout",
     "output_type": "stream",
     "text": [
      "[[0.22351894]] [-0.20201568]\n",
      "0 [0]\n",
      "1 [1]\n",
      "2 [1]\n",
      "3 [1]\n",
      "4 [1]\n"
     ]
    }
   ],
   "source": [
    "model_cP1 = LogisticRegression(C=0.1)\n",
    "model_cP1.fit(X,y)\n",
    "print(model_cP1.coef_,model_cP1.intercept_)\n",
    "for h in range(0,5):\n",
    "    print(h,model_cP1.predict(h))"
   ]
  }
 ],
 "metadata": {
  "kernelspec": {
   "display_name": "Python 3",
   "language": "python",
   "name": "python3"
  },
  "language_info": {
   "codemirror_mode": {
    "name": "ipython",
    "version": 3
   },
   "file_extension": ".py",
   "mimetype": "text/x-python",
   "name": "python",
   "nbconvert_exporter": "python",
   "pygments_lexer": "ipython3",
   "version": "3.6.5"
  }
 },
 "nbformat": 4,
 "nbformat_minor": 2
}
