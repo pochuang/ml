{
 "cells": [
  {
   "cell_type": "code",
   "execution_count": null,
   "metadata": {},
   "outputs": [],
   "source": [
    "from sklearn.ensemble import RandomForestClassifier\n",
    "from sklearn.model_selection import train_test_split\n",
    "from sklearn.metrics import mean_squared_error\n",
    "import pandas as pd\n",
    "\n",
    "df = pd.read_csv(r'C:\\pyml_scripts\\chapter11_ensemble\\winequality-red.csv', header=0, sep=';')\n",
    "X = df[list(df.columns)[:-1]]\n",
    "y = df['quality']\n",
    "X_train, X_test, y_train, y_test = train_test_split(X, y,test_size=0.1)\n",
    "rfc = RandomForestClassifier(n_estimators = 100)\n",
    "rfc.fit(X_train, y_train)\n",
    "y_predict = rfc.predict(X_test)\n",
    "print(\"訓練誤差\",rfc.score(X_train,y_train))\n",
    "print(\"一般誤差\",rfc.score(X_test,y_test))"
   ]
  },
  {
   "cell_type": "code",
   "execution_count": null,
   "metadata": {
    "scrolled": false
   },
   "outputs": [],
   "source": [
    "from matplotlib import  pyplot as plt\n",
    "imp = rfc.feature_importances_\n",
    "names = df.columns\n",
    "\n",
    "imp, names = zip(*sorted(zip(imp, names)))\n",
    "\n",
    "plt.barh(range(len(names)), imp, align='center')\n",
    "plt.yticks(range(len(names)), names)\n",
    "\n",
    "plt.xlabel('Importance of features')\n",
    "plt.ylabel('Features')\n",
    "plt.title('Importance of each feature')\n",
    "plt.show()"
   ]
  },
  {
   "cell_type": "code",
   "execution_count": null,
   "metadata": {},
   "outputs": [],
   "source": [
    "from sklearn.ensemble import RandomForestClassifier\n",
    "from sklearn.model_selection import train_test_split\n",
    "from sklearn.model_selection import cross_val_score\n",
    "import pandas as pd\n",
    "import numpy as np\n",
    "df = pd.read_csv(r'C:\\pyml_scripts\\chapter11_ensemble\\winequality-red.csv', header=0, sep=';')\n",
    "X = df[list(df.columns)[:-1]]\n",
    "y = df['quality']\n",
    "rfc = RandomForestClassifier(n_estimators = 100)\n",
    "score=cross_val_score(rfc,X,y,cv=5,scoring='accuracy')\n",
    "print(score)"
   ]
  },
  {
   "cell_type": "code",
   "execution_count": null,
   "metadata": {},
   "outputs": [],
   "source": [
    "df['quality'].value_counts().sort_index()"
   ]
  },
  {
   "cell_type": "code",
   "execution_count": null,
   "metadata": {
    "scrolled": true
   },
   "outputs": [],
   "source": [
    "df['quality'].value_counts().sort_index().plot(kind='bar')\n",
    "plt.show()"
   ]
  },
  {
   "cell_type": "raw",
   "metadata": {},
   "source": [
    "#建議另外開啟Anaconda prompt,執行下列指令\n",
    "python -m pip install --upgrade pip --user      #升級pip(安裝python module的工具)\n",
    "pip install --upgrade sklearn --user            #升級scikit-learn版本\n",
    "pip install imblearn --user                     #安裝imblearn(進行資料抽樣,上抽樣或下抽樣)\n",
    "\n",
    "#安裝完成後,請執行\"Kernel\" -> \"Restart & Run All\""
   ]
  },
  {
   "cell_type": "code",
   "execution_count": null,
   "metadata": {},
   "outputs": [],
   "source": [
    "from imblearn.over_sampling import RandomOverSampler\n",
    "X = df[list(df.columns)[:-1]]\n",
    "y = df['quality']\n",
    "ros = RandomOverSampler()      #上抽樣,以目前資料筆數最多的類別為目標,將不足數量的類別使用自我抽樣與生成新資料,讓每個類別的資料筆數相同     \n",
    "newX,newy = ros.fit_resample(X,y)"
   ]
  },
  {
   "cell_type": "code",
   "execution_count": null,
   "metadata": {},
   "outputs": [],
   "source": [
    "pd.Series(newy).value_counts().sort_index().plot(kind='bar')"
   ]
  },
  {
   "cell_type": "code",
   "execution_count": null,
   "metadata": {},
   "outputs": [],
   "source": [
    "from imblearn.under_sampling import RandomUnderSampler\n",
    "rus = RandomUnderSampler()  #下抽樣,以目前資料筆數最少的類別為目標,將多餘數量的類別使用自我抽樣,讓每個類別的資料筆數相同 \n",
    "newXu,newyu = rus.fit_resample(X,y)"
   ]
  },
  {
   "cell_type": "code",
   "execution_count": null,
   "metadata": {},
   "outputs": [],
   "source": [
    "pd.Series(newyu).value_counts().sort_index().plot(kind='bar')"
   ]
  },
  {
   "cell_type": "code",
   "execution_count": null,
   "metadata": {},
   "outputs": [],
   "source": [
    "rfc = RandomForestClassifier(n_estimators = 100)\n",
    "score=cross_val_score(rfc,newX,newy,cv=5,scoring='accuracy')\n",
    "print(np.mean(score))"
   ]
  },
  {
   "cell_type": "code",
   "execution_count": null,
   "metadata": {},
   "outputs": [],
   "source": [
    "from sklearn.ensemble import RandomForestClassifier\n",
    "from sklearn.model_selection import train_test_split\n",
    "from sklearn.metrics import mean_squared_error\n",
    "import pandas as pd\n",
    "from imblearn.over_sampling import RandomOverSampler\n",
    "df = pd.read_csv(r'C:\\pyml_scripts\\chapter11_ensemble\\winequality-red.csv', header=0, sep=';')\n",
    "X = df[list(df.columns)[:-1]]\n",
    "y = df['quality']\n",
    "ros = RandomOverSampler()\n",
    "newX,newy = ros.fit_resample(X,y)\n",
    "X_train, X_test, y_train, y_test = train_test_split(newX, newy,test_size=0.1)\n",
    "rfc = RandomForestClassifier(n_estimators = 100)\n",
    "rfc.fit(X_train, y_train)\n",
    "y_predict = rfc.predict(X_test)\n",
    "print(\"測試準確度\",rfc.score(X_test, y_test))"
   ]
  },
  {
   "cell_type": "code",
   "execution_count": null,
   "metadata": {},
   "outputs": [],
   "source": [
    "from sklearn.ensemble import RandomForestClassifier\n",
    "from sklearn.model_selection import train_test_split\n",
    "from sklearn.model_selection import cross_val_score\n",
    "import pandas as pd\n",
    "import numpy as np\n",
    "from imblearn.over_sampling import RandomOverSampler\n",
    "\n",
    "df = pd.read_csv(r'C:\\pyml_scripts\\chapter11_ensemble\\winequality-red.csv', header=0, sep=';')\n",
    "X = df[list(df.columns)[:-1]]\n",
    "y = df['quality']\n",
    "ros = RandomOverSampler()\n",
    "X_train, X_test, y_train, y_test = train_test_split(X, y,test_size=0.1)\n",
    "newX,newy = ros.fit_resample(X_train,y_train)"
   ]
  },
  {
   "cell_type": "code",
   "execution_count": null,
   "metadata": {},
   "outputs": [],
   "source": [
    "newX.shape"
   ]
  },
  {
   "cell_type": "code",
   "execution_count": null,
   "metadata": {},
   "outputs": [],
   "source": [
    "X_test.shape"
   ]
  },
  {
   "cell_type": "code",
   "execution_count": null,
   "metadata": {},
   "outputs": [],
   "source": [
    "rfc = RandomForestClassifier(n_estimators = 100)\n",
    "rfc.fit(newX, newy)\n",
    "rfc.score(X_test, y_test)\n",
    "print(\"訓練準確度\",rfc.score(newX, newy),\"測試準確度\",rfc.score(X_test, y_test))"
   ]
  },
  {
   "cell_type": "raw",
   "metadata": {},
   "source": [
    "前一個為何測試準確度高達0.9以上"
   ]
  },
  {
   "cell_type": "code",
   "execution_count": null,
   "metadata": {},
   "outputs": [],
   "source": []
  }
 ],
 "metadata": {
  "kernelspec": {
   "display_name": "Python 3 (ipykernel)",
   "language": "python",
   "name": "python3"
  },
  "language_info": {
   "codemirror_mode": {
    "name": "ipython",
    "version": 3
   },
   "file_extension": ".py",
   "mimetype": "text/x-python",
   "name": "python",
   "nbconvert_exporter": "python",
   "pygments_lexer": "ipython3",
   "version": "3.9.16"
  }
 },
 "nbformat": 4,
 "nbformat_minor": 2
}
