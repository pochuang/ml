{
 "cells": [
  {
   "cell_type": "code",
   "execution_count": null,
   "metadata": {},
   "outputs": [],
   "source": [
    "import pandas as pd\n",
    "import matplotlib.pyplot as plt\n",
    "import numpy as np"
   ]
  },
  {
   "cell_type": "code",
   "execution_count": null,
   "metadata": {},
   "outputs": [],
   "source": [
    "#載入波士頓房屋價值資料集\n",
    "boston = pd.read_csv(r'C:\\pyml_scripts\\boston.csv')"
   ]
  },
  {
   "cell_type": "code",
   "execution_count": null,
   "metadata": {},
   "outputs": [],
   "source": [
    "#使用pandas指令，檢視前10筆資料\n",
    "#df.head(n)"
   ]
  },
  {
   "cell_type": "code",
   "execution_count": null,
   "metadata": {},
   "outputs": [],
   "source": [
    "#使用matplotlib繪製一氧化氮濃度與房價的相關性\n",
    "#boston['NOX']是一氧化氮濃度的資料\n",
    "#boston['MEAV']是房價的資料\n",
    "#plt.scatter(X軸資料,Y軸資料)\n",
    "plt.show()"
   ]
  },
  {
   "cell_type": "code",
   "execution_count": null,
   "metadata": {},
   "outputs": [],
   "source": [
    "#使用pandas指令，檢視數字型態資料的一般統計資訊\n",
    "#df.describe()\n",
    "boston.describe()"
   ]
  },
  {
   "cell_type": "code",
   "execution_count": null,
   "metadata": {},
   "outputs": [],
   "source": [
    "#使用pandas指令，使用盒型圖檢視平均值、中位數、第1/3分位數、異常值\n",
    "#df.boxplot(figsize=(10,10),sym='rs')\n",
    "plt.show()"
   ]
  },
  {
   "cell_type": "code",
   "execution_count": null,
   "metadata": {},
   "outputs": [],
   "source": [
    "#將MEDV欄位值取出,用來當作未來被預測的目標 -> boston_target_df\n",
    "#將除MEDV欄位外的其他欄位取出,用來當作未來用來預測的特徵 -> boston_data_df\n",
    "boston_target_df = boston['MEDV']\n",
    "boston_data_df = boston.iloc[:,:-1]"
   ]
  },
  {
   "cell_type": "code",
   "execution_count": null,
   "metadata": {},
   "outputs": [],
   "source": [
    "#檢視相關係數\n",
    "#df.corr()"
   ]
  },
  {
   "cell_type": "raw",
   "metadata": {},
   "source": [
    "#描繪相關係數熱力圖,此處可能會因為numpy版本出現錯誤,若有錯誤請忽略此cell,不要執行即可\n",
    "#pip install seaborn\n",
    "import seaborn as sns\n",
    "plt.figure(figsize=(10,10))\n",
    "sns.heatmap(boston.corr(), mask=np.zeros_like(boston.corr(), dtype=np.bool), cmap=sns.diverging_palette(220, 10, as_cmap=True),square=True,annot=True)\n",
    "plt.show()"
   ]
  },
  {
   "cell_type": "code",
   "execution_count": null,
   "metadata": {},
   "outputs": [],
   "source": [
    "#顯示房價資料的基本統計資訊\n",
    "#df.describe()"
   ]
  },
  {
   "cell_type": "code",
   "execution_count": null,
   "metadata": {},
   "outputs": [],
   "source": [
    "#使用pandas顯示房價直方圖\n",
    "#df.hist(bins=50)\n",
    "plt.show()"
   ]
  },
  {
   "cell_type": "code",
   "execution_count": null,
   "metadata": {},
   "outputs": [],
   "source": [
    "#將資料集分為訓練資料與測試資料(80/20)\n",
    "X=boston_data_df\n",
    "y=boston_target_df\n",
    "#random_state若相同，可以確保每次執行時，訓練/測試資料都是相同分割結果\n",
    "from sklearn.model_selection import train_test_split\n",
    "\n",
    "#請將資料分成70%訓練使用,30%測試使用\n",
    "#X_train, X_test, y_train, y_test = train_test_split(X,y,test_size=n1,random_state=n2) "
   ]
  },
  {
   "cell_type": "code",
   "execution_count": null,
   "metadata": {},
   "outputs": [],
   "source": [
    "#顯示分割結果\n",
    "#X_train.count()"
   ]
  },
  {
   "cell_type": "code",
   "execution_count": null,
   "metadata": {},
   "outputs": [],
   "source": [
    "#X_test.count()"
   ]
  },
  {
   "cell_type": "code",
   "execution_count": null,
   "metadata": {},
   "outputs": [],
   "source": [
    "#採用線性迴歸並使用所有特徵進行訓練\n",
    "from sklearn.linear_model import LinearRegression\n",
    "clf = LinearRegression()\n",
    "\n",
    "#clf.fit(data,target)\n"
   ]
  },
  {
   "cell_type": "code",
   "execution_count": null,
   "metadata": {},
   "outputs": [],
   "source": [
    "#驗證所訓練的模型效果如何\n",
    "#clf.score(data,target)\n"
   ]
  },
  {
   "cell_type": "code",
   "execution_count": null,
   "metadata": {},
   "outputs": [],
   "source": [
    "#顯示模型所使用的係數與截距\n",
    "#print(clf.coef_)\n",
    "#print(clf.intercept_)"
   ]
  },
  {
   "cell_type": "code",
   "execution_count": null,
   "metadata": {},
   "outputs": [],
   "source": [
    "#使用訓練後模型進行房價預測\n",
    "#clf.predict(newdata)\n"
   ]
  },
  {
   "cell_type": "code",
   "execution_count": null,
   "metadata": {
    "scrolled": false
   },
   "outputs": [],
   "source": [
    "#顯示房價與房間數的關係\n",
    "#並將比較真實房價與預測房價的差異\n",
    "plt.figure(figsize=(10,10))\n",
    "plt.title('Raw data')\n",
    "plt.xlabel('RM (number of rooms)', fontsize=14)\n",
    "plt.ylabel('House PRICE (target)', fontsize=14)\n",
    "#plt.scatter(data_df[\"RM\"], real_price, c='blue', label='Raw data')\n",
    "#plt.scatter(data_df[\"RM\"], predict_price, c='red', label='Multiple regression analysis')\n",
    "plt.legend(loc='lower right', fontsize=12)\n",
    "plt.show()"
   ]
  },
  {
   "cell_type": "code",
   "execution_count": null,
   "metadata": {},
   "outputs": [],
   "source": [
    "#採用Ridge Regression進行迴歸分析，並顯示模型得分\n",
    "from sklearn.linear_model import Ridge\n",
    "clf_r = Ridge()\n"
   ]
  },
  {
   "cell_type": "code",
   "execution_count": null,
   "metadata": {},
   "outputs": [],
   "source": [
    "#顯示房價與房間數的關係\n",
    "#並將比較真實房價與預測房價的差異\n",
    "plt.figure(figsize=(10,10))\n",
    "plt.title('Raw data')\n",
    "plt.xlabel('RM (number of rooms)', fontsize=14)\n",
    "plt.ylabel('House PRICE (target)', fontsize=14)\n",
    "#plt.scatter(boston_data_df[\"RM\"], real_price, c='blue', label='Raw data')\n",
    "#plt.scatter(boston_data_df[\"RM\"], predict_price, c='red', label='Multiple regression analysis')\n",
    "plt.legend(loc='lower right', fontsize=12)\n",
    "plt.show()"
   ]
  },
  {
   "cell_type": "code",
   "execution_count": null,
   "metadata": {},
   "outputs": [],
   "source": [
    "#擷取部分特徵來訓練模型，將所要特徵名字列在[\"name1\",\"name2\"]之內即可\n",
    "#data_small_df = data_df[[\"name1\",\"name2\"]]"
   ]
  },
  {
   "cell_type": "code",
   "execution_count": null,
   "metadata": {},
   "outputs": [],
   "source": [
    "#clf = LinearRegression()\n",
    "#boston_target_pred = clf.predict(boston_data_small_df)\n",
    "#plt.figure(figsize=(40,10))\n",
    "#plt.plot(boston_target_df,label='Real Price')\n",
    "#plt.plot(boston_target_pred,label='OLS')\n",
    "#plt.legend()\n",
    "#plt.show()"
   ]
  },
  {
   "cell_type": "code",
   "execution_count": null,
   "metadata": {},
   "outputs": [],
   "source": [
    "#顯示模型得分\n"
   ]
  },
  {
   "cell_type": "code",
   "execution_count": null,
   "metadata": {},
   "outputs": [],
   "source": [
    "#輸入新資料的特徵，經過模型計算得到預設值\n",
    "#clf.predict([[value1,value2,...,valueN]])\n"
   ]
  },
  {
   "cell_type": "code",
   "execution_count": null,
   "metadata": {},
   "outputs": [],
   "source": []
  }
 ],
 "metadata": {
  "kernelspec": {
   "display_name": "Python 3 (ipykernel)",
   "language": "python",
   "name": "python3"
  },
  "language_info": {
   "codemirror_mode": {
    "name": "ipython",
    "version": 3
   },
   "file_extension": ".py",
   "mimetype": "text/x-python",
   "name": "python",
   "nbconvert_exporter": "python",
   "pygments_lexer": "ipython3",
   "version": "3.11.4"
  }
 },
 "nbformat": 4,
 "nbformat_minor": 2
}
